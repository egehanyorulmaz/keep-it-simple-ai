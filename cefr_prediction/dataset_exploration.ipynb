{
 "cells": [
  {
   "cell_type": "code",
   "execution_count": 1,
   "id": "c9a381b7-ab60-4fa9-a1a6-d2b107bc31d4",
   "metadata": {},
   "outputs": [],
   "source": [
    "%load_ext autoreload\n",
    "%autoreload 2"
   ]
  },
  {
   "cell_type": "code",
   "execution_count": 2,
   "id": "b8d79018-b57d-40c3-aed1-f32561f442b5",
   "metadata": {},
   "outputs": [],
   "source": [
    "from helpers.gcs_funcs import list_blobs, list_blobs_pd"
   ]
  },
  {
   "cell_type": "code",
   "execution_count": 3,
   "id": "39a94bf6-ac4c-437a-beca-18659f2e9855",
   "metadata": {},
   "outputs": [],
   "source": [
    "BUCKET_NAME = \"XXX\"\n",
    "FULL_BUCKET_NAME = \"gs://\" + BUCKET_NAME \n",
    "FOLDER_NAME = \"CEFR\""
   ]
  },
  {
   "cell_type": "code",
   "execution_count": 4,
   "id": "354cbc20-5710-4060-a4bd-d1f43c916611",
   "metadata": {},
   "outputs": [],
   "source": [
    "files_df = list_blobs_pd(bucket_name=BUCKET_NAME, \n",
    "           folder_name=FOLDER_NAME)\n",
    "file_names = list(files_df.iloc[1:][\"Name\"])"
   ]
  },
  {
   "cell_type": "code",
   "execution_count": 5,
   "id": "2da8cdf9-0e32-4789-95d8-6390ad74475e",
   "metadata": {},
   "outputs": [
    {
     "data": {
      "text/plain": [
       "['CEFR/CEFR_kaggle.csv',\n",
       " 'CEFR/NewsInLevels_dataset.csv',\n",
       " 'CEFR/OneStopEnglishCorpus_Dataset.csv',\n",
       " 'CEFR/book_levels.csv']"
      ]
     },
     "execution_count": 5,
     "metadata": {},
     "output_type": "execute_result"
    }
   ],
   "source": [
    "file_names"
   ]
  },
  {
   "cell_type": "code",
   "execution_count": 6,
   "id": "ef3e43fb-4ab9-449e-8914-cb1e86fd1262",
   "metadata": {},
   "outputs": [],
   "source": [
    "import pandas as pd\n",
    "import numpy as np"
   ]
  },
  {
   "cell_type": "code",
   "execution_count": 7,
   "id": "c0806c70-0bca-4c89-afa9-9c4a868521f9",
   "metadata": {},
   "outputs": [],
   "source": [
    "df1 = pd.read_csv(FULL_BUCKET_NAME + \"/CEFR/CEFR_kaggle.csv\")\n",
    "df2 = pd.read_csv(FULL_BUCKET_NAME + \"/CEFR/NewsInLevels_dataset.csv\")\n",
    "df3 = pd.read_csv(FULL_BUCKET_NAME + \"/CEFR/OneStopEnglishCorpus_Dataset.csv\")"
   ]
  },
  {
   "cell_type": "markdown",
   "id": "8026bcc2-4b1f-4fa0-af9e-758d02e6bba6",
   "metadata": {},
   "source": [
    "### CEFR Kaggle Dataset"
   ]
  },
  {
   "cell_type": "code",
   "execution_count": 8,
   "id": "3dc33472-df2b-46ff-a67f-f266bdc6815d",
   "metadata": {},
   "outputs": [
    {
     "data": {
      "text/html": [
       "<div>\n",
       "<style scoped>\n",
       "    .dataframe tbody tr th:only-of-type {\n",
       "        vertical-align: middle;\n",
       "    }\n",
       "\n",
       "    .dataframe tbody tr th {\n",
       "        vertical-align: top;\n",
       "    }\n",
       "\n",
       "    .dataframe thead th {\n",
       "        text-align: right;\n",
       "    }\n",
       "</style>\n",
       "<table border=\"1\" class=\"dataframe\">\n",
       "  <thead>\n",
       "    <tr style=\"text-align: right;\">\n",
       "      <th></th>\n",
       "      <th>text</th>\n",
       "      <th>label</th>\n",
       "    </tr>\n",
       "  </thead>\n",
       "  <tbody>\n",
       "    <tr>\n",
       "      <th>0</th>\n",
       "      <td>Hi!\\nI've been meaning to write for ages and f...</td>\n",
       "      <td>B2</td>\n",
       "    </tr>\n",
       "    <tr>\n",
       "      <th>1</th>\n",
       "      <td>﻿It was not so much how hard people found the ...</td>\n",
       "      <td>B2</td>\n",
       "    </tr>\n",
       "    <tr>\n",
       "      <th>2</th>\n",
       "      <td>Keith recently came back from a trip to Chicag...</td>\n",
       "      <td>B2</td>\n",
       "    </tr>\n",
       "    <tr>\n",
       "      <th>3</th>\n",
       "      <td>The Griffith Observatory is a planetarium, and...</td>\n",
       "      <td>B2</td>\n",
       "    </tr>\n",
       "    <tr>\n",
       "      <th>4</th>\n",
       "      <td>-LRB- The Hollywood Reporter -RRB- It's offici...</td>\n",
       "      <td>B2</td>\n",
       "    </tr>\n",
       "  </tbody>\n",
       "</table>\n",
       "</div>"
      ],
      "text/plain": [
       "                                                text label\n",
       "0  Hi!\\nI've been meaning to write for ages and f...    B2\n",
       "1  ﻿It was not so much how hard people found the ...    B2\n",
       "2  Keith recently came back from a trip to Chicag...    B2\n",
       "3  The Griffith Observatory is a planetarium, and...    B2\n",
       "4  -LRB- The Hollywood Reporter -RRB- It's offici...    B2"
      ]
     },
     "execution_count": 8,
     "metadata": {},
     "output_type": "execute_result"
    }
   ],
   "source": [
    "df1.head()"
   ]
  },
  {
   "cell_type": "code",
   "execution_count": 9,
   "id": "475d06b0-6c12-4ee3-8f4b-561ae36c3f84",
   "metadata": {},
   "outputs": [
    {
     "data": {
      "text/plain": [
       "A1    288\n",
       "B2    286\n",
       "A2    272\n",
       "C1    241\n",
       "B1    205\n",
       "C2    202\n",
       "Name: label, dtype: int64"
      ]
     },
     "execution_count": 9,
     "metadata": {},
     "output_type": "execute_result"
    }
   ],
   "source": [
    "df1.label.value_counts()"
   ]
  },
  {
   "cell_type": "code",
   "execution_count": 10,
   "id": "f395cc4d-cf82-43ff-acc7-416b14f4948f",
   "metadata": {},
   "outputs": [
    {
     "data": {
      "text/plain": [
       "(1494, 2)"
      ]
     },
     "execution_count": 10,
     "metadata": {},
     "output_type": "execute_result"
    }
   ],
   "source": [
    "df1.shape"
   ]
  },
  {
   "cell_type": "code",
   "execution_count": 11,
   "id": "6c4c4e23-2bcd-43ab-9390-b1709c90e06c",
   "metadata": {},
   "outputs": [
    {
     "name": "stdout",
     "output_type": "stream",
     "text": [
      "                                                   text  label\n",
      "0     Hi!\\nI've been meaning to write for ages and f...      2\n",
      "1     ﻿It was not so much how hard people found the ...      2\n",
      "2     Keith recently came back from a trip to Chicag...      2\n",
      "3     The Griffith Observatory is a planetarium, and...      2\n",
      "4     -LRB- The Hollywood Reporter -RRB- It's offici...      2\n",
      "...                                                 ...    ...\n",
      "1489  Light propagating in the vicinity of astrophys...      3\n",
      "1490  Future of dentistry has become one of the most...      3\n",
      "1491  ﻿The forests – and suburbs – of Europe are ech...      3\n",
      "1492  Hedge funds are turning bullish on oil once ag...      3\n",
      "1493  Without additional heating, radiative cooling ...      3\n",
      "\n",
      "[1494 rows x 2 columns]\n"
     ]
    }
   ],
   "source": [
    "# Mapping dictionary\n",
    "mapping = {'A': 1, 'B': 2, 'C': 3}\n",
    "\n",
    "# Update the DataFrame column\n",
    "df1['label'] = df1['label'].str[0].map(mapping)\n",
    "\n",
    "print(df1)"
   ]
  },
  {
   "cell_type": "code",
   "execution_count": 12,
   "id": "e324c60e-ef29-45ab-adfd-aaf0da4d46e5",
   "metadata": {},
   "outputs": [
    {
     "data": {
      "text/plain": [
       "1    560\n",
       "2    491\n",
       "3    443\n",
       "Name: label, dtype: int64"
      ]
     },
     "execution_count": 12,
     "metadata": {},
     "output_type": "execute_result"
    }
   ],
   "source": [
    "df1.label.value_counts()"
   ]
  },
  {
   "cell_type": "markdown",
   "id": "5d0222a2-f568-42b3-a0c5-4924e76b2490",
   "metadata": {},
   "source": [
    "### NewsInLevels Dataset"
   ]
  },
  {
   "cell_type": "code",
   "execution_count": 13,
   "id": "e7f26727-c9c1-4555-9f5d-97c53e74c015",
   "metadata": {},
   "outputs": [
    {
     "data": {
      "text/html": [
       "<div>\n",
       "<style scoped>\n",
       "    .dataframe tbody tr th:only-of-type {\n",
       "        vertical-align: middle;\n",
       "    }\n",
       "\n",
       "    .dataframe tbody tr th {\n",
       "        vertical-align: top;\n",
       "    }\n",
       "\n",
       "    .dataframe thead th {\n",
       "        text-align: right;\n",
       "    }\n",
       "</style>\n",
       "<table border=\"1\" class=\"dataframe\">\n",
       "  <thead>\n",
       "    <tr style=\"text-align: right;\">\n",
       "      <th></th>\n",
       "      <th>level_url</th>\n",
       "      <th>level</th>\n",
       "      <th>text</th>\n",
       "    </tr>\n",
       "  </thead>\n",
       "  <tbody>\n",
       "    <tr>\n",
       "      <th>0</th>\n",
       "      <td>https:www.newsinlevels.comproductsscientists-i...</td>\n",
       "      <td>1</td>\n",
       "      <td>Scientists at a research station in Norway are...</td>\n",
       "    </tr>\n",
       "    <tr>\n",
       "      <th>1</th>\n",
       "      <td>https:www.newsinlevels.comproductsscientists-i...</td>\n",
       "      <td>2</td>\n",
       "      <td>Scientists who are researching the Arctic regi...</td>\n",
       "    </tr>\n",
       "    <tr>\n",
       "      <th>2</th>\n",
       "      <td>https:www.newsinlevels.comproductsscientists-i...</td>\n",
       "      <td>3</td>\n",
       "      <td>Scientists studying the Arctic region from the...</td>\n",
       "    </tr>\n",
       "    <tr>\n",
       "      <th>3</th>\n",
       "      <td>https:www.newsinlevels.comproductseasy-speakin...</td>\n",
       "      <td>1</td>\n",
       "      <td>Hello students, There is a website for you. It...</td>\n",
       "    </tr>\n",
       "    <tr>\n",
       "      <th>4</th>\n",
       "      <td>https:www.newsinlevels.comproductseasy-speakin...</td>\n",
       "      <td>2</td>\n",
       "      <td>Hello students,\\nWe have a website for you. It...</td>\n",
       "    </tr>\n",
       "  </tbody>\n",
       "</table>\n",
       "</div>"
      ],
      "text/plain": [
       "                                           level_url  level  \\\n",
       "0  https:www.newsinlevels.comproductsscientists-i...      1   \n",
       "1  https:www.newsinlevels.comproductsscientists-i...      2   \n",
       "2  https:www.newsinlevels.comproductsscientists-i...      3   \n",
       "3  https:www.newsinlevels.comproductseasy-speakin...      1   \n",
       "4  https:www.newsinlevels.comproductseasy-speakin...      2   \n",
       "\n",
       "                                                text  \n",
       "0  Scientists at a research station in Norway are...  \n",
       "1  Scientists who are researching the Arctic regi...  \n",
       "2  Scientists studying the Arctic region from the...  \n",
       "3  Hello students, There is a website for you. It...  \n",
       "4  Hello students,\\nWe have a website for you. It...  "
      ]
     },
     "execution_count": 13,
     "metadata": {},
     "output_type": "execute_result"
    }
   ],
   "source": [
    "df2.head()"
   ]
  },
  {
   "cell_type": "code",
   "execution_count": 14,
   "id": "85a1482b-2d6d-475c-a00d-77a86687f246",
   "metadata": {},
   "outputs": [
    {
     "data": {
      "text/plain": [
       "1    3700\n",
       "3    3699\n",
       "2    3698\n",
       "Name: level, dtype: int64"
      ]
     },
     "execution_count": 14,
     "metadata": {},
     "output_type": "execute_result"
    }
   ],
   "source": [
    "df2.level.value_counts()"
   ]
  },
  {
   "cell_type": "code",
   "execution_count": 15,
   "id": "392360f2-1469-41b9-b5e5-01c7a56a5eb0",
   "metadata": {},
   "outputs": [
    {
     "data": {
      "text/plain": [
       "(11097, 3)"
      ]
     },
     "execution_count": 15,
     "metadata": {},
     "output_type": "execute_result"
    }
   ],
   "source": [
    "df2.shape"
   ]
  },
  {
   "cell_type": "code",
   "execution_count": 16,
   "id": "b78f0d95-dcff-47a3-8480-abbeb7bf3d03",
   "metadata": {},
   "outputs": [],
   "source": [
    "df2.rename(columns={\"level\": \"label\"}, inplace=True)"
   ]
  },
  {
   "cell_type": "code",
   "execution_count": 17,
   "id": "58e3b7bc-db7d-47af-a923-4e7456e9cede",
   "metadata": {},
   "outputs": [],
   "source": [
    "df2 = df2[[\"text\", \"label\"]]"
   ]
  },
  {
   "cell_type": "code",
   "execution_count": 18,
   "id": "be182bff-ff38-4e2a-a4ca-198fae245c52",
   "metadata": {},
   "outputs": [
    {
     "data": {
      "text/html": [
       "<div>\n",
       "<style scoped>\n",
       "    .dataframe tbody tr th:only-of-type {\n",
       "        vertical-align: middle;\n",
       "    }\n",
       "\n",
       "    .dataframe tbody tr th {\n",
       "        vertical-align: top;\n",
       "    }\n",
       "\n",
       "    .dataframe thead th {\n",
       "        text-align: right;\n",
       "    }\n",
       "</style>\n",
       "<table border=\"1\" class=\"dataframe\">\n",
       "  <thead>\n",
       "    <tr style=\"text-align: right;\">\n",
       "      <th></th>\n",
       "      <th>text</th>\n",
       "      <th>label</th>\n",
       "    </tr>\n",
       "  </thead>\n",
       "  <tbody>\n",
       "    <tr>\n",
       "      <th>0</th>\n",
       "      <td>Scientists at a research station in Norway are...</td>\n",
       "      <td>1</td>\n",
       "    </tr>\n",
       "    <tr>\n",
       "      <th>1</th>\n",
       "      <td>Scientists who are researching the Arctic regi...</td>\n",
       "      <td>2</td>\n",
       "    </tr>\n",
       "    <tr>\n",
       "      <th>2</th>\n",
       "      <td>Scientists studying the Arctic region from the...</td>\n",
       "      <td>3</td>\n",
       "    </tr>\n",
       "    <tr>\n",
       "      <th>3</th>\n",
       "      <td>Hello students, There is a website for you. It...</td>\n",
       "      <td>1</td>\n",
       "    </tr>\n",
       "    <tr>\n",
       "      <th>4</th>\n",
       "      <td>Hello students,\\nWe have a website for you. It...</td>\n",
       "      <td>2</td>\n",
       "    </tr>\n",
       "  </tbody>\n",
       "</table>\n",
       "</div>"
      ],
      "text/plain": [
       "                                                text  label\n",
       "0  Scientists at a research station in Norway are...      1\n",
       "1  Scientists who are researching the Arctic regi...      2\n",
       "2  Scientists studying the Arctic region from the...      3\n",
       "3  Hello students, There is a website for you. It...      1\n",
       "4  Hello students,\\nWe have a website for you. It...      2"
      ]
     },
     "execution_count": 18,
     "metadata": {},
     "output_type": "execute_result"
    }
   ],
   "source": [
    "df2.head()"
   ]
  },
  {
   "cell_type": "markdown",
   "id": "db83b949-4b2e-4cc7-be3a-d0a7c9c8bca5",
   "metadata": {},
   "source": [
    "### OneStopEnglishCorpus Dataset"
   ]
  },
  {
   "cell_type": "code",
   "execution_count": 19,
   "id": "3a4e0b19-93f1-4eb2-af89-feac69ef24e2",
   "metadata": {},
   "outputs": [
    {
     "data": {
      "text/html": [
       "<div>\n",
       "<style scoped>\n",
       "    .dataframe tbody tr th:only-of-type {\n",
       "        vertical-align: middle;\n",
       "    }\n",
       "\n",
       "    .dataframe tbody tr th {\n",
       "        vertical-align: top;\n",
       "    }\n",
       "\n",
       "    .dataframe thead th {\n",
       "        text-align: right;\n",
       "    }\n",
       "</style>\n",
       "<table border=\"1\" class=\"dataframe\">\n",
       "  <thead>\n",
       "    <tr style=\"text-align: right;\">\n",
       "      <th></th>\n",
       "      <th>url</th>\n",
       "      <th>text</th>\n",
       "      <th>level</th>\n",
       "    </tr>\n",
       "  </thead>\n",
       "  <tbody>\n",
       "    <tr>\n",
       "      <th>0</th>\n",
       "      <td>/nishkalavallabhi/OneStopEnglishCorpus/blob/ma...</td>\n",
       "      <td>﻿When you see the word Amazon, what’s the firs...</td>\n",
       "      <td>Elementary</td>\n",
       "    </tr>\n",
       "    <tr>\n",
       "      <th>1</th>\n",
       "      <td>/nishkalavallabhi/OneStopEnglishCorpus/blob/ma...</td>\n",
       "      <td>﻿To tourists, Amsterdam still seems very liber...</td>\n",
       "      <td>Elementary</td>\n",
       "    </tr>\n",
       "    <tr>\n",
       "      <th>2</th>\n",
       "      <td>/nishkalavallabhi/OneStopEnglishCorpus/blob/ma...</td>\n",
       "      <td>﻿Anitta, a music star from Brazil, has million...</td>\n",
       "      <td>Elementary</td>\n",
       "    </tr>\n",
       "    <tr>\n",
       "      <th>3</th>\n",
       "      <td>/nishkalavallabhi/OneStopEnglishCorpus/blob/ma...</td>\n",
       "      <td>Google has made maps of the world’s highest mo...</td>\n",
       "      <td>Elementary</td>\n",
       "    </tr>\n",
       "    <tr>\n",
       "      <th>4</th>\n",
       "      <td>/nishkalavallabhi/OneStopEnglishCorpus/blob/ma...</td>\n",
       "      <td>﻿The auction of a Banksy painting that disappe...</td>\n",
       "      <td>Elementary</td>\n",
       "    </tr>\n",
       "  </tbody>\n",
       "</table>\n",
       "</div>"
      ],
      "text/plain": [
       "                                                 url  \\\n",
       "0  /nishkalavallabhi/OneStopEnglishCorpus/blob/ma...   \n",
       "1  /nishkalavallabhi/OneStopEnglishCorpus/blob/ma...   \n",
       "2  /nishkalavallabhi/OneStopEnglishCorpus/blob/ma...   \n",
       "3  /nishkalavallabhi/OneStopEnglishCorpus/blob/ma...   \n",
       "4  /nishkalavallabhi/OneStopEnglishCorpus/blob/ma...   \n",
       "\n",
       "                                                text       level  \n",
       "0  ﻿When you see the word Amazon, what’s the firs...  Elementary  \n",
       "1  ﻿To tourists, Amsterdam still seems very liber...  Elementary  \n",
       "2  ﻿Anitta, a music star from Brazil, has million...  Elementary  \n",
       "3  Google has made maps of the world’s highest mo...  Elementary  \n",
       "4  ﻿The auction of a Banksy painting that disappe...  Elementary  "
      ]
     },
     "execution_count": 19,
     "metadata": {},
     "output_type": "execute_result"
    }
   ],
   "source": [
    "df3.head()"
   ]
  },
  {
   "cell_type": "code",
   "execution_count": 20,
   "id": "8bec1bd5-eb5c-4caa-9b71-d8a70356f26e",
   "metadata": {},
   "outputs": [
    {
     "data": {
      "text/plain": [
       "Elementary      189\n",
       "Intermediate    189\n",
       "Advanced        189\n",
       "Name: level, dtype: int64"
      ]
     },
     "execution_count": 20,
     "metadata": {},
     "output_type": "execute_result"
    }
   ],
   "source": [
    "df3.level.value_counts()"
   ]
  },
  {
   "cell_type": "code",
   "execution_count": 21,
   "id": "444c2126-9f5c-4456-9566-5a029d3a647e",
   "metadata": {},
   "outputs": [
    {
     "data": {
      "text/plain": [
       "(567, 3)"
      ]
     },
     "execution_count": 21,
     "metadata": {},
     "output_type": "execute_result"
    }
   ],
   "source": [
    "df3.shape"
   ]
  },
  {
   "cell_type": "code",
   "execution_count": 22,
   "id": "381f7987-bec4-42b3-9248-d5369bc95c20",
   "metadata": {},
   "outputs": [],
   "source": [
    "df3.rename(columns={\"level\": \"label\"}, inplace=True)"
   ]
  },
  {
   "cell_type": "code",
   "execution_count": 23,
   "id": "efc8fc71-d7fa-41ec-a304-1d8d2b8ff790",
   "metadata": {},
   "outputs": [],
   "source": [
    "df3 = df3[[\"text\", \"label\"]]"
   ]
  },
  {
   "cell_type": "code",
   "execution_count": 24,
   "id": "39645520-ae8c-4ee1-b287-055bc806fb83",
   "metadata": {},
   "outputs": [
    {
     "name": "stdout",
     "output_type": "stream",
     "text": [
      "                                                  text  label\n",
      "0    ﻿When you see the word Amazon, what’s the firs...      1\n",
      "1    ﻿To tourists, Amsterdam still seems very liber...      1\n",
      "2    ﻿Anitta, a music star from Brazil, has million...      1\n",
      "3    Google has made maps of the world’s highest mo...      1\n",
      "4    ﻿The auction of a Banksy painting that disappe...      1\n",
      "..                                                 ...    ...\n",
      "562  ﻿In typical bad-boyfriend style, Dan Sullivan ...      3\n",
      "563  ﻿Thousands of people protested on Australia’s ...      3\n",
      "564  ﻿1 Race engineer  A race engineer liaises betw...      3\n",
      "565  ﻿More than one million British workers might b...      3\n",
      "566  ﻿Low-income countries will remain on the front...      3\n",
      "\n",
      "[567 rows x 2 columns]\n"
     ]
    }
   ],
   "source": [
    "# Mapping dictionary\n",
    "mapping = {'Elementary': 1, 'Intermediate': 2, 'Advanced': 3}\n",
    "\n",
    "# Update the DataFrame column\n",
    "df3['label'] = df3['label'].map(mapping)\n",
    "\n",
    "print(df3)"
   ]
  },
  {
   "cell_type": "markdown",
   "id": "bc32fcbf-df12-4f4e-bd45-f9abea021503",
   "metadata": {},
   "source": [
    "### Combining the data"
   ]
  },
  {
   "cell_type": "code",
   "execution_count": 25,
   "id": "a0f8bdf4-05a0-4b2f-8734-12ab637706d5",
   "metadata": {},
   "outputs": [],
   "source": [
    "X = pd.concat([df1, df2, df3])\n",
    "X.reset_index(drop=True, inplace=True)\n",
    "y = X[\"label\"]\n",
    "X.drop(columns=[\"label\"], inplace=True)"
   ]
  },
  {
   "cell_type": "code",
   "execution_count": 26,
   "id": "8c0899c9-fadb-43f8-9a36-b25d33dfa611",
   "metadata": {},
   "outputs": [
    {
     "data": {
      "text/html": [
       "<div>\n",
       "<style scoped>\n",
       "    .dataframe tbody tr th:only-of-type {\n",
       "        vertical-align: middle;\n",
       "    }\n",
       "\n",
       "    .dataframe tbody tr th {\n",
       "        vertical-align: top;\n",
       "    }\n",
       "\n",
       "    .dataframe thead th {\n",
       "        text-align: right;\n",
       "    }\n",
       "</style>\n",
       "<table border=\"1\" class=\"dataframe\">\n",
       "  <thead>\n",
       "    <tr style=\"text-align: right;\">\n",
       "      <th></th>\n",
       "      <th>text</th>\n",
       "    </tr>\n",
       "  </thead>\n",
       "  <tbody>\n",
       "    <tr>\n",
       "      <th>0</th>\n",
       "      <td>Hi!\\nI've been meaning to write for ages and f...</td>\n",
       "    </tr>\n",
       "    <tr>\n",
       "      <th>1</th>\n",
       "      <td>﻿It was not so much how hard people found the ...</td>\n",
       "    </tr>\n",
       "    <tr>\n",
       "      <th>2</th>\n",
       "      <td>Keith recently came back from a trip to Chicag...</td>\n",
       "    </tr>\n",
       "    <tr>\n",
       "      <th>3</th>\n",
       "      <td>The Griffith Observatory is a planetarium, and...</td>\n",
       "    </tr>\n",
       "    <tr>\n",
       "      <th>4</th>\n",
       "      <td>-LRB- The Hollywood Reporter -RRB- It's offici...</td>\n",
       "    </tr>\n",
       "    <tr>\n",
       "      <th>...</th>\n",
       "      <td>...</td>\n",
       "    </tr>\n",
       "    <tr>\n",
       "      <th>13153</th>\n",
       "      <td>﻿In typical bad-boyfriend style, Dan Sullivan ...</td>\n",
       "    </tr>\n",
       "    <tr>\n",
       "      <th>13154</th>\n",
       "      <td>﻿Thousands of people protested on Australia’s ...</td>\n",
       "    </tr>\n",
       "    <tr>\n",
       "      <th>13155</th>\n",
       "      <td>﻿1 Race engineer  A race engineer liaises betw...</td>\n",
       "    </tr>\n",
       "    <tr>\n",
       "      <th>13156</th>\n",
       "      <td>﻿More than one million British workers might b...</td>\n",
       "    </tr>\n",
       "    <tr>\n",
       "      <th>13157</th>\n",
       "      <td>﻿Low-income countries will remain on the front...</td>\n",
       "    </tr>\n",
       "  </tbody>\n",
       "</table>\n",
       "<p>13158 rows × 1 columns</p>\n",
       "</div>"
      ],
      "text/plain": [
       "                                                    text\n",
       "0      Hi!\\nI've been meaning to write for ages and f...\n",
       "1      ﻿It was not so much how hard people found the ...\n",
       "2      Keith recently came back from a trip to Chicag...\n",
       "3      The Griffith Observatory is a planetarium, and...\n",
       "4      -LRB- The Hollywood Reporter -RRB- It's offici...\n",
       "...                                                  ...\n",
       "13153  ﻿In typical bad-boyfriend style, Dan Sullivan ...\n",
       "13154  ﻿Thousands of people protested on Australia’s ...\n",
       "13155  ﻿1 Race engineer  A race engineer liaises betw...\n",
       "13156  ﻿More than one million British workers might b...\n",
       "13157  ﻿Low-income countries will remain on the front...\n",
       "\n",
       "[13158 rows x 1 columns]"
      ]
     },
     "execution_count": 26,
     "metadata": {},
     "output_type": "execute_result"
    }
   ],
   "source": [
    "X"
   ]
  },
  {
   "cell_type": "code",
   "execution_count": 27,
   "id": "265ca22a-d45f-4138-9d77-0e31afb14b28",
   "metadata": {},
   "outputs": [
    {
     "data": {
      "text/plain": [
       "1    4449\n",
       "2    4378\n",
       "3    4331\n",
       "Name: label, dtype: int64"
      ]
     },
     "execution_count": 27,
     "metadata": {},
     "output_type": "execute_result"
    }
   ],
   "source": [
    "y.value_counts()"
   ]
  },
  {
   "cell_type": "markdown",
   "id": "cf4fe491-5f4f-42d2-bbc8-34129b391618",
   "metadata": {},
   "source": [
    "### Preprocessing"
   ]
  },
  {
   "cell_type": "code",
   "execution_count": 28,
   "id": "a4fc03e9-4a74-4874-b922-24d22f69d637",
   "metadata": {},
   "outputs": [
    {
     "name": "stderr",
     "output_type": "stream",
     "text": [
      "[nltk_data] Downloading package wordnet to /home/jupyter/nltk_data...\n",
      "[nltk_data]   Package wordnet is already up-to-date!\n"
     ]
    },
    {
     "data": {
      "text/plain": [
       "True"
      ]
     },
     "execution_count": 28,
     "metadata": {},
     "output_type": "execute_result"
    }
   ],
   "source": [
    "import nltk\n",
    "nltk.download('wordnet')"
   ]
  },
  {
   "cell_type": "code",
   "execution_count": 33,
   "id": "f1d64e33-eaa1-4591-b6a6-5c69fa9b9ab3",
   "metadata": {},
   "outputs": [
    {
     "name": "stderr",
     "output_type": "stream",
     "text": [
      "[nltk_data] Downloading package stopwords to\n",
      "[nltk_data]     /home/jupyter/nltk_data...\n",
      "[nltk_data]   Package stopwords is already up-to-date!\n"
     ]
    }
   ],
   "source": [
    "%reload_ext autoreload"
   ]
  },
  {
   "cell_type": "code",
   "execution_count": 30,
   "id": "c4070f56-b062-4afb-808b-dd7286a39f3a",
   "metadata": {},
   "outputs": [
    {
     "name": "stderr",
     "output_type": "stream",
     "text": [
      "[nltk_data] Downloading package stopwords to\n",
      "[nltk_data]     /home/jupyter/nltk_data...\n",
      "[nltk_data]   Package stopwords is already up-to-date!\n"
     ]
    }
   ],
   "source": [
    "from helpers.data_preparation import preprocessing_pipeline"
   ]
  },
  {
   "cell_type": "code",
   "execution_count": 34,
   "id": "7095969c-fc3f-406d-b045-c33a78e0b789",
   "metadata": {},
   "outputs": [
    {
     "name": "stdout",
     "output_type": "stream",
     "text": [
      "Preprocessing the data...\n",
      "Preprocessing completed.\n"
     ]
    }
   ],
   "source": [
    "print('Preprocessing the data...')\n",
    "preprocessor = preprocessing_pipeline()\n",
    "X = preprocessor.fit_transform(X)"
   ]
  },
  {
   "cell_type": "code",
   "execution_count": 35,
   "id": "ab5c2491-32ac-495d-9d59-f6b1a12d1d42",
   "metadata": {},
   "outputs": [
    {
     "data": {
      "text/html": [
       "<div>\n",
       "<style scoped>\n",
       "    .dataframe tbody tr th:only-of-type {\n",
       "        vertical-align: middle;\n",
       "    }\n",
       "\n",
       "    .dataframe tbody tr th {\n",
       "        vertical-align: top;\n",
       "    }\n",
       "\n",
       "    .dataframe thead th {\n",
       "        text-align: right;\n",
       "    }\n",
       "</style>\n",
       "<table border=\"1\" class=\"dataframe\">\n",
       "  <thead>\n",
       "    <tr style=\"text-align: right;\">\n",
       "      <th></th>\n",
       "      <th>text</th>\n",
       "    </tr>\n",
       "  </thead>\n",
       "  <tbody>\n",
       "    <tr>\n",
       "      <th>0</th>\n",
       "      <td>hi ive meaning write age finally today im actu...</td>\n",
       "    </tr>\n",
       "    <tr>\n",
       "      <th>1</th>\n",
       "      <td>much hard people found challenge far would go ...</td>\n",
       "    </tr>\n",
       "    <tr>\n",
       "      <th>2</th>\n",
       "      <td>keith recently came back trip chicago illinois...</td>\n",
       "    </tr>\n",
       "    <tr>\n",
       "      <th>3</th>\n",
       "      <td>griffith observatory planetarium exhibit hall ...</td>\n",
       "    </tr>\n",
       "    <tr>\n",
       "      <th>4</th>\n",
       "      <td>lrb hollywood reporter rrb official amcs walki...</td>\n",
       "    </tr>\n",
       "    <tr>\n",
       "      <th>...</th>\n",
       "      <td>...</td>\n",
       "    </tr>\n",
       "    <tr>\n",
       "      <th>13153</th>\n",
       "      <td>typical badboyfriend style dan sullivan late b...</td>\n",
       "    </tr>\n",
       "    <tr>\n",
       "      <th>13154</th>\n",
       "      <td>thousand people protested australia beach shar...</td>\n",
       "    </tr>\n",
       "    <tr>\n",
       "      <th>13155</th>\n",
       "      <td>1 race engineer race engineer liaises driver m...</td>\n",
       "    </tr>\n",
       "    <tr>\n",
       "      <th>13156</th>\n",
       "      <td>one million british worker might employed zero...</td>\n",
       "    </tr>\n",
       "    <tr>\n",
       "      <th>13157</th>\n",
       "      <td>lowincome country remain front line humaninduc...</td>\n",
       "    </tr>\n",
       "  </tbody>\n",
       "</table>\n",
       "<p>13158 rows × 1 columns</p>\n",
       "</div>"
      ],
      "text/plain": [
       "                                                    text\n",
       "0      hi ive meaning write age finally today im actu...\n",
       "1      much hard people found challenge far would go ...\n",
       "2      keith recently came back trip chicago illinois...\n",
       "3      griffith observatory planetarium exhibit hall ...\n",
       "4      lrb hollywood reporter rrb official amcs walki...\n",
       "...                                                  ...\n",
       "13153  typical badboyfriend style dan sullivan late b...\n",
       "13154  thousand people protested australia beach shar...\n",
       "13155  1 race engineer race engineer liaises driver m...\n",
       "13156  one million british worker might employed zero...\n",
       "13157  lowincome country remain front line humaninduc...\n",
       "\n",
       "[13158 rows x 1 columns]"
      ]
     },
     "execution_count": 35,
     "metadata": {},
     "output_type": "execute_result"
    }
   ],
   "source": [
    "X"
   ]
  },
  {
   "cell_type": "code",
   "execution_count": null,
   "id": "47074867-a4ac-4618-9a1b-e92351130897",
   "metadata": {},
   "outputs": [],
   "source": []
  },
  {
   "cell_type": "code",
   "execution_count": null,
   "id": "8895b44b-3d86-4d7b-81c4-f5cfae7792ac",
   "metadata": {},
   "outputs": [],
   "source": []
  }
 ],
 "metadata": {
  "environment": {
   "kernel": "python3",
   "name": "tf2-cpu.2-11.m106",
   "type": "gcloud",
   "uri": "gcr.io/deeplearning-platform-release/tf2-cpu.2-11:m106"
  },
  "kernelspec": {
   "display_name": "Python 3",
   "language": "python",
   "name": "python3"
  },
  "language_info": {
   "codemirror_mode": {
    "name": "ipython",
    "version": 3
   },
   "file_extension": ".py",
   "mimetype": "text/x-python",
   "name": "python",
   "nbconvert_exporter": "python",
   "pygments_lexer": "ipython3",
   "version": "3.7.12"
  }
 },
 "nbformat": 4,
 "nbformat_minor": 5
}
