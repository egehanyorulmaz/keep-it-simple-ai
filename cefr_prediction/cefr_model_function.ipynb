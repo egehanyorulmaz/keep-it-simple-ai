{
 "cells": [
  {
   "cell_type": "code",
   "execution_count": 2,
   "id": "9b7c8b03-841e-4ea0-bc69-cf5b9ef43970",
   "metadata": {},
   "outputs": [],
   "source": [
    "from flask import Flask, request, jsonify\n",
    "import os\n",
    "import ktrain\n",
    "from ktrain import text"
   ]
  },
  {
   "cell_type": "code",
   "execution_count": 59,
   "id": "183919fe-7be8-4d2e-970d-7ed66b184cf5",
   "metadata": {},
   "outputs": [],
   "source": [
    "model_path = '../bert_model'\n",
    "model = ktrain.load_predictor(model_path)"
   ]
  },
  {
   "cell_type": "code",
   "execution_count": 54,
   "id": "5921d367-9b3a-4d84-9467-cae81d37eafc",
   "metadata": {},
   "outputs": [],
   "source": [
    "# def get_cefr_level(text, model):\n",
    "#     prediction = model.predict(text)\n",
    "\n",
    "#     # Map the prediction to CEFR levels (customize this mapping as needed)\n",
    "#     cefr_levels = {\n",
    "#         'label_0':'Elementary',\n",
    "#         'label_1':'Intermediate',\n",
    "#         'label_2':'Advanced'\n",
    "#                 }\n",
    "\n",
    "#     # Return the CEFR level based on the prediction\n",
    "#     return cefr_levels[prediction]\n"
   ]
  },
  {
   "cell_type": "code",
   "execution_count": 55,
   "id": "9fda0edf-ab59-4f83-8014-66282ef4e463",
   "metadata": {},
   "outputs": [],
   "source": [
    "# input_text = \"This is a sample text for classification.\""
   ]
  },
  {
   "cell_type": "code",
   "execution_count": 57,
   "id": "56db26b8-6b90-4cbf-b78a-3dc171970401",
   "metadata": {},
   "outputs": [],
   "source": [
    "# cefr_level = get_cefr_level(input_text, model)"
   ]
  },
  {
   "cell_type": "code",
   "execution_count": 58,
   "id": "018feeed-7b54-4a84-b2e5-6a9bd94f3668",
   "metadata": {},
   "outputs": [
    {
     "name": "stdout",
     "output_type": "stream",
     "text": [
      "CEFR Level: Elementary\n"
     ]
    }
   ],
   "source": [
    "# print(f\"CEFR Level: {cefr_level}\")"
   ]
  },
  {
   "cell_type": "code",
   "execution_count": 61,
   "id": "865013f1-51e3-44e6-b927-d4c92aea2c41",
   "metadata": {},
   "outputs": [],
   "source": [
    "# Map the prediction labels to CEFR levels\n",
    "cefr_levels = {\n",
    "    'label_0': 'Elementary',\n",
    "    'label_1': 'Intermediate',\n",
    "    'label_2': 'Advanced'\n",
    "}"
   ]
  },
  {
   "cell_type": "code",
   "execution_count": 63,
   "id": "fd223e23-b561-4f18-be13-c56f7585d7fd",
   "metadata": {},
   "outputs": [],
   "source": [
    "app = Flask(__name__)"
   ]
  },
  {
   "cell_type": "code",
   "execution_count": 71,
   "id": "11e58c9e-7b52-4583-a848-e6210660a6a9",
   "metadata": {},
   "outputs": [
    {
     "ename": "AssertionError",
     "evalue": "View function mapping is overwriting an existing endpoint function: get_cefr_level",
     "output_type": "error",
     "traceback": [
      "\u001b[0;31m---------------------------------------------------------------------------\u001b[0m",
      "\u001b[0;31mAssertionError\u001b[0m                            Traceback (most recent call last)",
      "Cell \u001b[0;32mIn[71], line 2\u001b[0m\n\u001b[1;32m      1\u001b[0m \u001b[38;5;129;43m@app\u001b[39;49m\u001b[38;5;241;43m.\u001b[39;49m\u001b[43mroute\u001b[49m\u001b[43m(\u001b[49m\u001b[38;5;124;43m'\u001b[39;49m\u001b[38;5;124;43m/get_cefr_level\u001b[39;49m\u001b[38;5;124;43m'\u001b[39;49m\u001b[43m,\u001b[49m\u001b[43m \u001b[49m\u001b[43mmethods\u001b[49m\u001b[38;5;241;43m=\u001b[39;49m\u001b[43m[\u001b[49m\u001b[38;5;124;43m'\u001b[39;49m\u001b[38;5;124;43mPOST\u001b[39;49m\u001b[38;5;124;43m'\u001b[39;49m\u001b[43m]\u001b[49m\u001b[43m)\u001b[49m\n\u001b[0;32m----> 2\u001b[0m \u001b[38;5;28;43;01mdef\u001b[39;49;00m\u001b[43m \u001b[49m\u001b[38;5;21;43mget_cefr_level\u001b[39;49m\u001b[43m(\u001b[49m\u001b[43m)\u001b[49m\u001b[43m:\u001b[49m\n\u001b[1;32m      3\u001b[0m \u001b[43m    \u001b[49m\u001b[38;5;28;43;01mtry\u001b[39;49;00m\u001b[43m:\u001b[49m\n\u001b[1;32m      4\u001b[0m \u001b[43m        \u001b[49m\u001b[43mdata\u001b[49m\u001b[43m \u001b[49m\u001b[38;5;241;43m=\u001b[39;49m\u001b[43m \u001b[49m\u001b[43mrequest\u001b[49m\u001b[38;5;241;43m.\u001b[39;49m\u001b[43mget_json\u001b[49m\u001b[43m(\u001b[49m\u001b[43m)\u001b[49m\n",
      "File \u001b[0;32m/opt/conda/lib/python3.10/site-packages/flask/sansio/scaffold.py:364\u001b[0m, in \u001b[0;36mScaffold.route.<locals>.decorator\u001b[0;34m(f)\u001b[0m\n\u001b[1;32m    362\u001b[0m \u001b[38;5;28;01mdef\u001b[39;00m \u001b[38;5;21mdecorator\u001b[39m(f: T_route) \u001b[38;5;241m-\u001b[39m\u001b[38;5;241m>\u001b[39m T_route:\n\u001b[1;32m    363\u001b[0m     endpoint \u001b[38;5;241m=\u001b[39m options\u001b[38;5;241m.\u001b[39mpop(\u001b[38;5;124m\"\u001b[39m\u001b[38;5;124mendpoint\u001b[39m\u001b[38;5;124m\"\u001b[39m, \u001b[38;5;28;01mNone\u001b[39;00m)\n\u001b[0;32m--> 364\u001b[0m     \u001b[38;5;28;43mself\u001b[39;49m\u001b[38;5;241;43m.\u001b[39;49m\u001b[43madd_url_rule\u001b[49m\u001b[43m(\u001b[49m\u001b[43mrule\u001b[49m\u001b[43m,\u001b[49m\u001b[43m \u001b[49m\u001b[43mendpoint\u001b[49m\u001b[43m,\u001b[49m\u001b[43m \u001b[49m\u001b[43mf\u001b[49m\u001b[43m,\u001b[49m\u001b[43m \u001b[49m\u001b[38;5;241;43m*\u001b[39;49m\u001b[38;5;241;43m*\u001b[39;49m\u001b[43moptions\u001b[49m\u001b[43m)\u001b[49m\n\u001b[1;32m    365\u001b[0m     \u001b[38;5;28;01mreturn\u001b[39;00m f\n",
      "File \u001b[0;32m/opt/conda/lib/python3.10/site-packages/flask/sansio/scaffold.py:44\u001b[0m, in \u001b[0;36msetupmethod.<locals>.wrapper_func\u001b[0;34m(self, *args, **kwargs)\u001b[0m\n\u001b[1;32m     42\u001b[0m \u001b[38;5;28;01mdef\u001b[39;00m \u001b[38;5;21mwrapper_func\u001b[39m(\u001b[38;5;28mself\u001b[39m, \u001b[38;5;241m*\u001b[39margs: t\u001b[38;5;241m.\u001b[39mAny, \u001b[38;5;241m*\u001b[39m\u001b[38;5;241m*\u001b[39mkwargs: t\u001b[38;5;241m.\u001b[39mAny) \u001b[38;5;241m-\u001b[39m\u001b[38;5;241m>\u001b[39m t\u001b[38;5;241m.\u001b[39mAny:\n\u001b[1;32m     43\u001b[0m     \u001b[38;5;28mself\u001b[39m\u001b[38;5;241m.\u001b[39m_check_setup_finished(f_name)\n\u001b[0;32m---> 44\u001b[0m     \u001b[38;5;28;01mreturn\u001b[39;00m \u001b[43mf\u001b[49m\u001b[43m(\u001b[49m\u001b[38;5;28;43mself\u001b[39;49m\u001b[43m,\u001b[49m\u001b[43m \u001b[49m\u001b[38;5;241;43m*\u001b[39;49m\u001b[43margs\u001b[49m\u001b[43m,\u001b[49m\u001b[43m \u001b[49m\u001b[38;5;241;43m*\u001b[39;49m\u001b[38;5;241;43m*\u001b[39;49m\u001b[43mkwargs\u001b[49m\u001b[43m)\u001b[49m\n",
      "File \u001b[0;32m/opt/conda/lib/python3.10/site-packages/flask/sansio/app.py:659\u001b[0m, in \u001b[0;36mApp.add_url_rule\u001b[0;34m(self, rule, endpoint, view_func, provide_automatic_options, **options)\u001b[0m\n\u001b[1;32m    657\u001b[0m old_func \u001b[38;5;241m=\u001b[39m \u001b[38;5;28mself\u001b[39m\u001b[38;5;241m.\u001b[39mview_functions\u001b[38;5;241m.\u001b[39mget(endpoint)\n\u001b[1;32m    658\u001b[0m \u001b[38;5;28;01mif\u001b[39;00m old_func \u001b[38;5;129;01mis\u001b[39;00m \u001b[38;5;129;01mnot\u001b[39;00m \u001b[38;5;28;01mNone\u001b[39;00m \u001b[38;5;129;01mand\u001b[39;00m old_func \u001b[38;5;241m!=\u001b[39m view_func:\n\u001b[0;32m--> 659\u001b[0m     \u001b[38;5;28;01mraise\u001b[39;00m \u001b[38;5;167;01mAssertionError\u001b[39;00m(\n\u001b[1;32m    660\u001b[0m         \u001b[38;5;124m\"\u001b[39m\u001b[38;5;124mView function mapping is overwriting an existing\u001b[39m\u001b[38;5;124m\"\u001b[39m\n\u001b[1;32m    661\u001b[0m         \u001b[38;5;124mf\u001b[39m\u001b[38;5;124m\"\u001b[39m\u001b[38;5;124m endpoint function: \u001b[39m\u001b[38;5;132;01m{\u001b[39;00mendpoint\u001b[38;5;132;01m}\u001b[39;00m\u001b[38;5;124m\"\u001b[39m\n\u001b[1;32m    662\u001b[0m     )\n\u001b[1;32m    663\u001b[0m \u001b[38;5;28mself\u001b[39m\u001b[38;5;241m.\u001b[39mview_functions[endpoint] \u001b[38;5;241m=\u001b[39m view_func\n",
      "\u001b[0;31mAssertionError\u001b[0m: View function mapping is overwriting an existing endpoint function: get_cefr_level"
     ]
    }
   ],
   "source": [
    "@app.route('/get_cefr_level', methods=['POST'])\n",
    "def get_cefr_level():\n",
    "    try:\n",
    "        data = request.get_json()\n",
    "        input_text = data.get('text')\n",
    "        if not input_text:\n",
    "            return jsonify({\"error\": \"Missing 'text' field in the request.\"}), 400\n",
    "\n",
    "        prediction = model.predict(input_text)\n",
    "        cefr_level = cefr_levels.get(prediction, 'Unknown')\n",
    "\n",
    "        return jsonify({\"CEFR Level\": cefr_level})\n",
    "    except Exception as e:\n",
    "        return jsonify({\"error\": str(e)}), 500\n",
    "\n",
    "if __name__ == '__main__':\n",
    "    app.run(host='0.0.0.0', port=5000)"
   ]
  },
  {
   "cell_type": "code",
   "execution_count": 74,
   "id": "f37db34b-e834-4011-a699-6b692463878a",
   "metadata": {},
   "outputs": [
    {
     "name": "stdout",
     "output_type": "stream",
     "text": [
      "^C\n",
      "Traceback (most recent call last):\n",
      "  File \"/home/jupyter/keep-it-simple-ai/bert_model/cefr_model_api.py\", line 3, in <module>\n",
      "    import ktrain\n",
      "  File \"/opt/conda/lib/python3.10/site-packages/ktrain/__init__.py\", line 1, in <module>\n",
      "    from . import imports as I\n",
      "  File \"/opt/conda/lib/python3.10/site-packages/ktrain/imports.py\", line 43, in <module>\n",
      "    import tensorflow as tf\n",
      "  File \"/opt/conda/lib/python3.10/site-packages/tensorflow/__init__.py\", line 470, in <module>\n",
      "    _keras._load()\n",
      "  File \"/opt/conda/lib/python3.10/site-packages/tensorflow/python/util/lazy_loader.py\", line 41, in _load\n",
      "    module = importlib.import_module(self.__name__)\n",
      "  File \"/opt/conda/lib/python3.10/importlib/__init__.py\", line 126, in import_module\n",
      "    return _bootstrap._gcd_import(name[level:], package, level)\n",
      "  File \"/opt/conda/lib/python3.10/site-packages/keras/__init__.py\", line 21, in <module>\n",
      "    from keras import models\n",
      "  File \"/opt/conda/lib/python3.10/site-packages/keras/models/__init__.py\", line 18, in <module>\n",
      "    from keras.engine.functional import Functional\n",
      "  File \"/opt/conda/lib/python3.10/site-packages/keras/engine/functional.py\", line 34, in <module>\n",
      "    from keras.engine import training as training_lib\n",
      "  File \"/opt/conda/lib/python3.10/site-packages/keras/engine/training.py\", line 33, in <module>\n",
      "    from keras.engine import compile_utils\n",
      "  File \"/opt/conda/lib/python3.10/site-packages/keras/engine/compile_utils.py\", line 24, in <module>\n",
      "    from keras import metrics as metrics_mod\n",
      "  File \"/opt/conda/lib/python3.10/site-packages/keras/metrics/__init__.py\", line 33, in <module>\n",
      "    from keras.metrics.metrics import AUC\n",
      "  File \"/opt/conda/lib/python3.10/site-packages/keras/metrics/metrics.py\", line 28, in <module>\n",
      "    from keras import activations\n",
      "  File \"/opt/conda/lib/python3.10/site-packages/keras/activations.py\", line 21, in <module>\n",
      "    import keras.layers.activation as activation_layers\n",
      "  File \"/opt/conda/lib/python3.10/site-packages/keras/layers/__init__.py\", line 20, in <module>\n",
      "    from keras.engine.base_preprocessing_layer import PreprocessingLayer\n",
      "  File \"/opt/conda/lib/python3.10/site-packages/keras/engine/base_preprocessing_layer.py\", line 21, in <module>\n",
      "    from keras.engine import data_adapter\n",
      "  File \"/opt/conda/lib/python3.10/site-packages/keras/engine/data_adapter.py\", line 43, in <module>\n",
      "    import pandas as pd\n",
      "  File \"/opt/conda/lib/python3.10/site-packages/pandas/__init__.py\", line 48, in <module>\n",
      "    from pandas.core.api import (\n",
      "  File \"/opt/conda/lib/python3.10/site-packages/pandas/core/api.py\", line 47, in <module>\n",
      "    from pandas.core.groupby import (\n",
      "  File \"/opt/conda/lib/python3.10/site-packages/pandas/core/groupby/__init__.py\", line 1, in <module>\n",
      "    from pandas.core.groupby.generic import (\n",
      "  File \"/opt/conda/lib/python3.10/site-packages/pandas/core/groupby/generic.py\", line 77, in <module>\n",
      "    from pandas.core.frame import DataFrame\n",
      "  File \"/opt/conda/lib/python3.10/site-packages/pandas/core/frame.py\", line 218, in <module>\n",
      "    from pandas.core.series import Series\n",
      "  File \"/opt/conda/lib/python3.10/site-packages/pandas/core/series.py\", line 244, in <module>\n",
      "    class Series(base.IndexOpsMixin, NDFrame):  # type: ignore[misc]\n",
      "  File \"/opt/conda/lib/python3.10/site-packages/pandas/core/series.py\", line 6062, in Series\n",
      "    _AXIS_LEN = len(_AXIS_ORDERS)\n",
      "KeyboardInterrupt\n"
     ]
    }
   ],
   "source": [
    "!python cefr_model_api.py\n"
   ]
  },
  {
   "cell_type": "code",
   "execution_count": null,
   "id": "29b4366f-fa5c-4f35-a51c-84a1674c7290",
   "metadata": {},
   "outputs": [],
   "source": []
  }
 ],
 "metadata": {
  "environment": {
   "kernel": "python3",
   "name": "tf2-gpu.2-11.m111",
   "type": "gcloud",
   "uri": "gcr.io/deeplearning-platform-release/tf2-gpu.2-11:m111"
  },
  "kernelspec": {
   "display_name": "Python 3",
   "language": "python",
   "name": "python3"
  },
  "language_info": {
   "codemirror_mode": {
    "name": "ipython",
    "version": 3
   },
   "file_extension": ".py",
   "mimetype": "text/x-python",
   "name": "python",
   "nbconvert_exporter": "python",
   "pygments_lexer": "ipython3",
   "version": "3.10.12"
  }
 },
 "nbformat": 4,
 "nbformat_minor": 5
}
