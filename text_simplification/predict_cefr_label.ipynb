{
 "cells": [
  {
   "cell_type": "code",
   "execution_count": 55,
   "id": "c02faa60-c7ae-4b29-8009-36566ade4607",
   "metadata": {},
   "outputs": [],
   "source": [
    "import pandas as pd\n",
    "from data_prep import prepare_data"
   ]
  },
  {
   "cell_type": "code",
   "execution_count": 78,
   "id": "d65526c7-a6e4-423c-b625-1f8b3cf2811c",
   "metadata": {},
   "outputs": [
    {
     "name": "stdout",
     "output_type": "stream",
     "text": [
      "Available CPUs: 4\n",
      "INFO: Pandarallel will run on 3 workers.\n",
      "INFO: Pandarallel will use standard multiprocessing data transfer (pipe) to transfer data between the main process and workers.\n"
     ]
    }
   ],
   "source": [
    "from pandarallel import pandarallel\n",
    "import multiprocessing\n",
    "\n",
    "num_processors = multiprocessing.cpu_count()\n",
    "print(f'Available CPUs: {num_processors}')\n",
    "\n",
    "pandarallel.initialize(nb_workers=num_processors-1, use_memory_fs=False)"
   ]
  },
  {
   "cell_type": "code",
   "execution_count": 79,
   "id": "fd9f37f1-4880-40e6-93ab-b2a2f9b45ff4",
   "metadata": {},
   "outputs": [],
   "source": [
    "# df = prepare_data()\n",
    "df = pd.read_csv(\"gs://XXX/Text_Simplification/raw_data.csv\")"
   ]
  },
  {
   "cell_type": "code",
   "execution_count": 80,
   "id": "85caa10a-a05d-45c0-a7e8-650342cacb84",
   "metadata": {},
   "outputs": [
    {
     "data": {
      "text/html": [
       "<div>\n",
       "<style scoped>\n",
       "    .dataframe tbody tr th:only-of-type {\n",
       "        vertical-align: middle;\n",
       "    }\n",
       "\n",
       "    .dataframe tbody tr th {\n",
       "        vertical-align: top;\n",
       "    }\n",
       "\n",
       "    .dataframe thead th {\n",
       "        text-align: right;\n",
       "    }\n",
       "</style>\n",
       "<table border=\"1\" class=\"dataframe\">\n",
       "  <thead>\n",
       "    <tr style=\"text-align: right;\">\n",
       "      <th></th>\n",
       "      <th>source</th>\n",
       "      <th>target</th>\n",
       "      <th>source_level_og</th>\n",
       "      <th>target_level_og</th>\n",
       "      <th>data_source</th>\n",
       "      <th>data_type</th>\n",
       "      <th>source_level_cefr</th>\n",
       "      <th>target_level_cefr</th>\n",
       "      <th>id</th>\n",
       "    </tr>\n",
       "  </thead>\n",
       "  <tbody>\n",
       "    <tr>\n",
       "      <th>0</th>\n",
       "      <td>British people are big tea drinkers. It is a t...</td>\n",
       "      <td>British people love tea. They drink it for dif...</td>\n",
       "      <td>3.0</td>\n",
       "      <td>2.0</td>\n",
       "      <td>BreakingNewsEnglish</td>\n",
       "      <td>text_simplification</td>\n",
       "      <td>NaN</td>\n",
       "      <td>NaN</td>\n",
       "      <td>TS000000001</td>\n",
       "    </tr>\n",
       "    <tr>\n",
       "      <th>1</th>\n",
       "      <td>Many people around the world stay at home and ...</td>\n",
       "      <td>Many people stay at home. They do not want to ...</td>\n",
       "      <td>3.0</td>\n",
       "      <td>2.0</td>\n",
       "      <td>BreakingNewsEnglish</td>\n",
       "      <td>text_simplification</td>\n",
       "      <td>NaN</td>\n",
       "      <td>NaN</td>\n",
       "      <td>TS000000002</td>\n",
       "    </tr>\n",
       "    <tr>\n",
       "      <th>2</th>\n",
       "      <td>Most of us don't really take much notice of ca...</td>\n",
       "      <td>We rarely notice car license plates. Maybe we ...</td>\n",
       "      <td>3.0</td>\n",
       "      <td>2.0</td>\n",
       "      <td>BreakingNewsEnglish</td>\n",
       "      <td>text_simplification</td>\n",
       "      <td>NaN</td>\n",
       "      <td>NaN</td>\n",
       "      <td>TS000000003</td>\n",
       "    </tr>\n",
       "    <tr>\n",
       "      <th>3</th>\n",
       "      <td>Italy's ruling party may introduce a new law t...</td>\n",
       "      <td>Italy wants to stop people using English words...</td>\n",
       "      <td>3.0</td>\n",
       "      <td>2.0</td>\n",
       "      <td>BreakingNewsEnglish</td>\n",
       "      <td>text_simplification</td>\n",
       "      <td>NaN</td>\n",
       "      <td>NaN</td>\n",
       "      <td>TS000000004</td>\n",
       "    </tr>\n",
       "    <tr>\n",
       "      <th>4</th>\n",
       "      <td>Some people are very forgetful, while others c...</td>\n",
       "      <td>Some people are forgetful, while others rememb...</td>\n",
       "      <td>3.0</td>\n",
       "      <td>2.0</td>\n",
       "      <td>BreakingNewsEnglish</td>\n",
       "      <td>text_simplification</td>\n",
       "      <td>NaN</td>\n",
       "      <td>NaN</td>\n",
       "      <td>TS000000005</td>\n",
       "    </tr>\n",
       "  </tbody>\n",
       "</table>\n",
       "</div>"
      ],
      "text/plain": [
       "                                              source  \\\n",
       "0  British people are big tea drinkers. It is a t...   \n",
       "1  Many people around the world stay at home and ...   \n",
       "2  Most of us don't really take much notice of ca...   \n",
       "3  Italy's ruling party may introduce a new law t...   \n",
       "4  Some people are very forgetful, while others c...   \n",
       "\n",
       "                                              target  source_level_og  \\\n",
       "0  British people love tea. They drink it for dif...              3.0   \n",
       "1  Many people stay at home. They do not want to ...              3.0   \n",
       "2  We rarely notice car license plates. Maybe we ...              3.0   \n",
       "3  Italy wants to stop people using English words...              3.0   \n",
       "4  Some people are forgetful, while others rememb...              3.0   \n",
       "\n",
       "   target_level_og          data_source            data_type  \\\n",
       "0              2.0  BreakingNewsEnglish  text_simplification   \n",
       "1              2.0  BreakingNewsEnglish  text_simplification   \n",
       "2              2.0  BreakingNewsEnglish  text_simplification   \n",
       "3              2.0  BreakingNewsEnglish  text_simplification   \n",
       "4              2.0  BreakingNewsEnglish  text_simplification   \n",
       "\n",
       "   source_level_cefr  target_level_cefr           id  \n",
       "0                NaN                NaN  TS000000001  \n",
       "1                NaN                NaN  TS000000002  \n",
       "2                NaN                NaN  TS000000003  \n",
       "3                NaN                NaN  TS000000004  \n",
       "4                NaN                NaN  TS000000005  "
      ]
     },
     "execution_count": 80,
     "metadata": {},
     "output_type": "execute_result"
    }
   ],
   "source": [
    "df.head()"
   ]
  },
  {
   "cell_type": "code",
   "execution_count": 81,
   "id": "ebb315ad-a1d1-4f72-94bd-9a71f6ac2590",
   "metadata": {},
   "outputs": [
    {
     "data": {
      "text/plain": [
       "(791159, 9)"
      ]
     },
     "execution_count": 81,
     "metadata": {},
     "output_type": "execute_result"
    }
   ],
   "source": [
    "df.shape"
   ]
  },
  {
   "cell_type": "code",
   "execution_count": 82,
   "id": "f5ec619c-b2f8-4516-b08b-e2c3b7238b92",
   "metadata": {},
   "outputs": [],
   "source": [
    "df[\"source\"] = df[\"source\"].astype(str)\n",
    "df[\"target\"] = df[\"target\"].astype(str)"
   ]
  },
  {
   "cell_type": "code",
   "execution_count": 83,
   "id": "0d68543d-3838-4c3f-afb7-3fceaa838118",
   "metadata": {},
   "outputs": [
    {
     "data": {
      "text/plain": [
       "['BreakingNewsEnglish',\n",
       " 'HuggingFace',\n",
       " 'NewsInLevels',\n",
       " 'WikiLarge',\n",
       " 'WikiSmall']"
      ]
     },
     "execution_count": 83,
     "metadata": {},
     "output_type": "execute_result"
    }
   ],
   "source": [
    "df.data_source.unique().tolist()"
   ]
  },
  {
   "cell_type": "code",
   "execution_count": 84,
   "id": "47ab7ef9-bf0d-49f0-a05c-50080a8f5981",
   "metadata": {},
   "outputs": [],
   "source": [
    "df = df[(df.data_source==\"WikiLarge\") | (df.data_source==\"WikiSmall\")]"
   ]
  },
  {
   "cell_type": "code",
   "execution_count": 85,
   "id": "41b05496-d54e-4c49-9ea8-36711b5995af",
   "metadata": {},
   "outputs": [
    {
     "data": {
      "text/plain": [
       "['WikiLarge', 'WikiSmall']"
      ]
     },
     "execution_count": 85,
     "metadata": {},
     "output_type": "execute_result"
    }
   ],
   "source": [
    "df.data_source.unique().tolist()"
   ]
  },
  {
   "cell_type": "markdown",
   "id": "eb22b932-716d-4e2d-9ed8-296acaaa47bb",
   "metadata": {},
   "source": [
    "### Data Preparation for Inference"
   ]
  },
  {
   "cell_type": "code",
   "execution_count": 86,
   "id": "e82b7b1d-75e1-4867-9d90-de467468672a",
   "metadata": {},
   "outputs": [
    {
     "name": "stderr",
     "output_type": "stream",
     "text": [
      "[nltk_data] Downloading package stopwords to\n",
      "[nltk_data]     /home/jupyter/nltk_data...\n",
      "[nltk_data]   Package stopwords is already up-to-date!\n",
      "[nltk_data] Downloading package wordnet to /home/jupyter/nltk_data...\n",
      "[nltk_data]   Package wordnet is already up-to-date!\n",
      "[nltk_data] Downloading package punkt to /home/jupyter/nltk_data...\n",
      "[nltk_data]   Package punkt is already up-to-date!\n"
     ]
    }
   ],
   "source": [
    "import nltk\n",
    "from nltk.corpus import stopwords\n",
    "from nltk.stem import WordNetLemmatizer, SnowballStemmer\n",
    "import string\n",
    "import re\n",
    "\n",
    "nltk.download('stopwords')\n",
    "nltk.download('wordnet')\n",
    "nltk.download('punkt')\n",
    "\n",
    "\n",
    "def preprocess_text(text):\n",
    "    \"\"\"\n",
    "    Note: low-income -> low income\n",
    "    \"\"\"\n",
    "    # Convert text to lowercase\n",
    "    text = text.lower()\n",
    "    \n",
    "    # Replace special characters with whitespace\n",
    "    text = re.sub(r'[^\\w\\s]', ' ', text)\n",
    "    \n",
    "    # Remove leading and trailing whitespace\n",
    "    text = text.strip()\n",
    "    \n",
    "    # Tokenize text into individual words\n",
    "    words = nltk.word_tokenize(text)\n",
    "    \n",
    "    # Remove stopwords from the text\n",
    "    # stop_words = set(stopwords.words('english'))\n",
    "    # words = [word for word in words if word not in stop_words]\n",
    "    \n",
    "    # Lemmatize the words using WordNetLemmatizer\n",
    "    # lemmatizer = WordNetLemmatizer()\n",
    "    # words = [lemmatizer.lemmatize(word) for word in words]\n",
    "    \n",
    "    # Perform snowball stemming on the words\n",
    "    # stemmer = SnowballStemmer(\"english\")\n",
    "    # words = [stemmer.stem(word) for word in words]\n",
    "    \n",
    "    # Join the preprocessed words back into a single string\n",
    "    preprocessed_text = ' '.join(words)\n",
    "    \n",
    "    # Remove leading and trailing whitespace\n",
    "    preprocessed_text = preprocessed_text.strip()\n",
    "    \n",
    "    \n",
    "    return preprocessed_text"
   ]
  },
  {
   "cell_type": "code",
   "execution_count": 87,
   "id": "cfa79807-42b3-494c-ba54-3b13f3305669",
   "metadata": {},
   "outputs": [],
   "source": [
    "df[\"source\"] = df[\"source\"].parallel_apply(lambda t: preprocess_text(t))\n",
    "df[\"target\"] = df[\"target\"].parallel_apply(lambda t: preprocess_text(t))"
   ]
  },
  {
   "cell_type": "code",
   "execution_count": 88,
   "id": "c685d55c-a5e1-43aa-a629-23bf11ffcf78",
   "metadata": {},
   "outputs": [],
   "source": [
    "def split_long_texts(df, column_name):\n",
    "    new_rows = []\n",
    "    for index, row in df.iterrows():\n",
    "        text = row[column_name]\n",
    "        word_count = len(text.split())\n",
    "\n",
    "        if word_count > 400:\n",
    "            start = 0\n",
    "            while start < word_count:\n",
    "                end = start + 400\n",
    "                if end > word_count:\n",
    "                    end = word_count\n",
    "\n",
    "                sliced_text = ' '.join(text.split()[start:end])\n",
    "                new_row = row.copy()\n",
    "                new_row[column_name] = sliced_text\n",
    "                new_rows.append(new_row)\n",
    "\n",
    "                start = end\n",
    "\n",
    "        else:\n",
    "            new_rows.append(row)\n",
    "\n",
    "    new_df = pd.DataFrame(new_rows)\n",
    "    return new_df"
   ]
  },
  {
   "cell_type": "code",
   "execution_count": 89,
   "id": "b10074b2-0869-4ff5-99b0-04274826922b",
   "metadata": {},
   "outputs": [],
   "source": [
    "# source_df = split_long_texts(df[[\"id\", \"source\"]], column_name = \"source\")"
   ]
  },
  {
   "cell_type": "code",
   "execution_count": 90,
   "id": "eeabb2f5-0b32-4bb7-8e85-bf6306115be9",
   "metadata": {},
   "outputs": [
    {
     "data": {
      "text/html": [
       "<div>\n",
       "<style scoped>\n",
       "    .dataframe tbody tr th:only-of-type {\n",
       "        vertical-align: middle;\n",
       "    }\n",
       "\n",
       "    .dataframe tbody tr th {\n",
       "        vertical-align: top;\n",
       "    }\n",
       "\n",
       "    .dataframe thead th {\n",
       "        text-align: right;\n",
       "    }\n",
       "</style>\n",
       "<table border=\"1\" class=\"dataframe\">\n",
       "  <thead>\n",
       "    <tr style=\"text-align: right;\">\n",
       "      <th></th>\n",
       "      <th>source</th>\n",
       "      <th>target</th>\n",
       "      <th>source_level_og</th>\n",
       "      <th>target_level_og</th>\n",
       "      <th>data_source</th>\n",
       "      <th>data_type</th>\n",
       "      <th>source_level_cefr</th>\n",
       "      <th>target_level_cefr</th>\n",
       "      <th>id</th>\n",
       "    </tr>\n",
       "  </thead>\n",
       "  <tbody>\n",
       "    <tr>\n",
       "      <th>17369</th>\n",
       "      <td>one side of the armed conflicts is composed ma...</td>\n",
       "      <td>one side of the armed conflicts is made of sud...</td>\n",
       "      <td>NaN</td>\n",
       "      <td>NaN</td>\n",
       "      <td>WikiLarge</td>\n",
       "      <td>text_simplification</td>\n",
       "      <td>NaN</td>\n",
       "      <td>NaN</td>\n",
       "      <td>TS000017378</td>\n",
       "    </tr>\n",
       "    <tr>\n",
       "      <th>17370</th>\n",
       "      <td>jeddah is the principal gateway to mecca islam...</td>\n",
       "      <td>jeddah is the main gateway to mecca islam s ho...</td>\n",
       "      <td>NaN</td>\n",
       "      <td>NaN</td>\n",
       "      <td>WikiLarge</td>\n",
       "      <td>text_simplification</td>\n",
       "      <td>NaN</td>\n",
       "      <td>NaN</td>\n",
       "      <td>TS000017379</td>\n",
       "    </tr>\n",
       "    <tr>\n",
       "      <th>17371</th>\n",
       "      <td>the great dark spot is thought to represent a ...</td>\n",
       "      <td>the great dark spot is thought to represent a ...</td>\n",
       "      <td>NaN</td>\n",
       "      <td>NaN</td>\n",
       "      <td>WikiLarge</td>\n",
       "      <td>text_simplification</td>\n",
       "      <td>NaN</td>\n",
       "      <td>NaN</td>\n",
       "      <td>TS000017380</td>\n",
       "    </tr>\n",
       "    <tr>\n",
       "      <th>17372</th>\n",
       "      <td>his next work saturday follows an especially e...</td>\n",
       "      <td>his next work at saturday will be a successful...</td>\n",
       "      <td>NaN</td>\n",
       "      <td>NaN</td>\n",
       "      <td>WikiLarge</td>\n",
       "      <td>text_simplification</td>\n",
       "      <td>NaN</td>\n",
       "      <td>NaN</td>\n",
       "      <td>TS000017381</td>\n",
       "    </tr>\n",
       "    <tr>\n",
       "      <th>17373</th>\n",
       "      <td>the tarantula the trickster character spun a b...</td>\n",
       "      <td>the tarantuala the trickster spun a black chor...</td>\n",
       "      <td>NaN</td>\n",
       "      <td>NaN</td>\n",
       "      <td>WikiLarge</td>\n",
       "      <td>text_simplification</td>\n",
       "      <td>NaN</td>\n",
       "      <td>NaN</td>\n",
       "      <td>TS000017382</td>\n",
       "    </tr>\n",
       "  </tbody>\n",
       "</table>\n",
       "</div>"
      ],
      "text/plain": [
       "                                                  source  \\\n",
       "17369  one side of the armed conflicts is composed ma...   \n",
       "17370  jeddah is the principal gateway to mecca islam...   \n",
       "17371  the great dark spot is thought to represent a ...   \n",
       "17372  his next work saturday follows an especially e...   \n",
       "17373  the tarantula the trickster character spun a b...   \n",
       "\n",
       "                                                  target  source_level_og  \\\n",
       "17369  one side of the armed conflicts is made of sud...              NaN   \n",
       "17370  jeddah is the main gateway to mecca islam s ho...              NaN   \n",
       "17371  the great dark spot is thought to represent a ...              NaN   \n",
       "17372  his next work at saturday will be a successful...              NaN   \n",
       "17373  the tarantuala the trickster spun a black chor...              NaN   \n",
       "\n",
       "       target_level_og data_source            data_type  source_level_cefr  \\\n",
       "17369              NaN   WikiLarge  text_simplification                NaN   \n",
       "17370              NaN   WikiLarge  text_simplification                NaN   \n",
       "17371              NaN   WikiLarge  text_simplification                NaN   \n",
       "17372              NaN   WikiLarge  text_simplification                NaN   \n",
       "17373              NaN   WikiLarge  text_simplification                NaN   \n",
       "\n",
       "       target_level_cefr           id  \n",
       "17369                NaN  TS000017378  \n",
       "17370                NaN  TS000017379  \n",
       "17371                NaN  TS000017380  \n",
       "17372                NaN  TS000017381  \n",
       "17373                NaN  TS000017382  "
      ]
     },
     "execution_count": 90,
     "metadata": {},
     "output_type": "execute_result"
    }
   ],
   "source": [
    "df.head()"
   ]
  },
  {
   "cell_type": "markdown",
   "id": "4139cf61-c350-44f6-872d-a9253b28037c",
   "metadata": {
    "jp-MarkdownHeadingCollapsed": true,
    "tags": []
   },
   "source": [
    "### Sampling and word count filtering"
   ]
  },
  {
   "cell_type": "code",
   "execution_count": null,
   "id": "12522911-271a-4f09-89eb-98a54ff5e63a",
   "metadata": {},
   "outputs": [],
   "source": [
    "def count_words(t):\n",
    "    return len(t.split())\n",
    "\n",
    "df[\"word_count\"] = df[\"source\"].parallel_apply(lambda t: count_words(t))"
   ]
  },
  {
   "cell_type": "code",
   "execution_count": null,
   "id": "dee8b178-9c6a-427a-990c-09a3bec8406b",
   "metadata": {},
   "outputs": [],
   "source": [
    "df.word_count.hist(bins=20)"
   ]
  },
  {
   "cell_type": "code",
   "execution_count": null,
   "id": "961580d9-9656-4745-9491-e74a1f24940f",
   "metadata": {},
   "outputs": [],
   "source": [
    "df.describe()"
   ]
  },
  {
   "cell_type": "code",
   "execution_count": 33,
   "id": "cab4955f-5223-4457-acdc-072fa68c890d",
   "metadata": {},
   "outputs": [],
   "source": [
    "df = df[df.word_count >15]"
   ]
  },
  {
   "cell_type": "code",
   "execution_count": 34,
   "id": "c2813dcc-fbb9-4137-a6a6-bb1a389fba13",
   "metadata": {},
   "outputs": [],
   "source": [
    "sample_data = df.sample(frac=1, random_state=42).reset_index(drop=False)"
   ]
  },
  {
   "cell_type": "code",
   "execution_count": 35,
   "id": "4ecd2bc8-ccbd-47ed-bf94-7ccdd758b75f",
   "metadata": {},
   "outputs": [
    {
     "data": {
      "text/plain": [
       "582443"
      ]
     },
     "execution_count": 35,
     "metadata": {},
     "output_type": "execute_result"
    }
   ],
   "source": [
    "len(sample_data)"
   ]
  },
  {
   "cell_type": "code",
   "execution_count": 36,
   "id": "0243329b-c197-45fd-baf7-6de9bc11fc9f",
   "metadata": {},
   "outputs": [],
   "source": [
    "import math\n",
    "sample_fraction = .1\n",
    "\n",
    "end_limit = math.ceil(len(sample_data)*sample_fraction)"
   ]
  },
  {
   "cell_type": "code",
   "execution_count": 37,
   "id": "346bea57-0f05-40ce-a363-c89b1bbdd9a8",
   "metadata": {},
   "outputs": [
    {
     "data": {
      "text/plain": [
       "58245"
      ]
     },
     "execution_count": 37,
     "metadata": {},
     "output_type": "execute_result"
    }
   ],
   "source": [
    "sample_data = sample_data.iloc[:end_limit]\n",
    "len(sample_data)"
   ]
  },
  {
   "cell_type": "code",
   "execution_count": 38,
   "id": "7ccb0944-7598-44ab-b5f6-2f614887a3e4",
   "metadata": {},
   "outputs": [
    {
     "data": {
      "text/html": [
       "<div>\n",
       "<style scoped>\n",
       "    .dataframe tbody tr th:only-of-type {\n",
       "        vertical-align: middle;\n",
       "    }\n",
       "\n",
       "    .dataframe tbody tr th {\n",
       "        vertical-align: top;\n",
       "    }\n",
       "\n",
       "    .dataframe thead th {\n",
       "        text-align: right;\n",
       "    }\n",
       "</style>\n",
       "<table border=\"1\" class=\"dataframe\">\n",
       "  <thead>\n",
       "    <tr style=\"text-align: right;\">\n",
       "      <th></th>\n",
       "      <th>index</th>\n",
       "      <th>source</th>\n",
       "      <th>target</th>\n",
       "      <th>source_level_og</th>\n",
       "      <th>target_level_og</th>\n",
       "      <th>data_source</th>\n",
       "      <th>data_type</th>\n",
       "      <th>source_level_cefr</th>\n",
       "      <th>target_level_cefr</th>\n",
       "      <th>id</th>\n",
       "      <th>word_count</th>\n",
       "    </tr>\n",
       "  </thead>\n",
       "  <tbody>\n",
       "    <tr>\n",
       "      <th>0</th>\n",
       "      <td>452955</td>\n",
       "      <td>he is most famous for scoring the golden goal ...</td>\n",
       "      <td>total number 4 number 5</td>\n",
       "      <td>NaN</td>\n",
       "      <td>NaN</td>\n",
       "      <td>WikiLarge</td>\n",
       "      <td>text_simplification</td>\n",
       "      <td>NaN</td>\n",
       "      <td>NaN</td>\n",
       "      <td>TS000452964</td>\n",
       "      <td>31</td>\n",
       "    </tr>\n",
       "    <tr>\n",
       "      <th>1</th>\n",
       "      <td>679682</td>\n",
       "      <td>gumbasia lrb available in 2 video formats rrb ...</td>\n",
       "      <td>gumbasia lrb available in 2 video formats rrb ...</td>\n",
       "      <td>NaN</td>\n",
       "      <td>NaN</td>\n",
       "      <td>WikiSmall</td>\n",
       "      <td>text_simplification</td>\n",
       "      <td>NaN</td>\n",
       "      <td>NaN</td>\n",
       "      <td>TS000679691</td>\n",
       "      <td>25</td>\n",
       "    </tr>\n",
       "    <tr>\n",
       "      <th>2</th>\n",
       "      <td>246154</td>\n",
       "      <td>john bull lrb 1562 or 1563 â 15 march 1628 rrb...</td>\n",
       "      <td>john bull lrb born 1562 or 1563 died march 15 ...</td>\n",
       "      <td>NaN</td>\n",
       "      <td>NaN</td>\n",
       "      <td>WikiLarge</td>\n",
       "      <td>text_simplification</td>\n",
       "      <td>NaN</td>\n",
       "      <td>NaN</td>\n",
       "      <td>TS000246163</td>\n",
       "      <td>19</td>\n",
       "    </tr>\n",
       "    <tr>\n",
       "      <th>3</th>\n",
       "      <td>208482</td>\n",
       "      <td>after a welcoming speech by edward the prince ...</td>\n",
       "      <td>he said the queen declares this hall is now open</td>\n",
       "      <td>NaN</td>\n",
       "      <td>NaN</td>\n",
       "      <td>WikiLarge</td>\n",
       "      <td>text_simplification</td>\n",
       "      <td>NaN</td>\n",
       "      <td>NaN</td>\n",
       "      <td>TS000208491</td>\n",
       "      <td>32</td>\n",
       "    </tr>\n",
       "    <tr>\n",
       "      <th>4</th>\n",
       "      <td>415651</td>\n",
       "      <td>his anti fascist political views caused him a ...</td>\n",
       "      <td>his political ideas gave him a great deal of t...</td>\n",
       "      <td>NaN</td>\n",
       "      <td>NaN</td>\n",
       "      <td>WikiLarge</td>\n",
       "      <td>text_simplification</td>\n",
       "      <td>NaN</td>\n",
       "      <td>NaN</td>\n",
       "      <td>TS000415660</td>\n",
       "      <td>18</td>\n",
       "    </tr>\n",
       "    <tr>\n",
       "      <th>...</th>\n",
       "      <td>...</td>\n",
       "      <td>...</td>\n",
       "      <td>...</td>\n",
       "      <td>...</td>\n",
       "      <td>...</td>\n",
       "      <td>...</td>\n",
       "      <td>...</td>\n",
       "      <td>...</td>\n",
       "      <td>...</td>\n",
       "      <td>...</td>\n",
       "      <td>...</td>\n",
       "    </tr>\n",
       "    <tr>\n",
       "      <th>58240</th>\n",
       "      <td>427503</td>\n",
       "      <td>person 1 cbe lrb born number 1 may number 2 in...</td>\n",
       "      <td>person 1 lrb born number 1 may number 2 in loc...</td>\n",
       "      <td>NaN</td>\n",
       "      <td>NaN</td>\n",
       "      <td>WikiLarge</td>\n",
       "      <td>text_simplification</td>\n",
       "      <td>NaN</td>\n",
       "      <td>NaN</td>\n",
       "      <td>TS000427512</td>\n",
       "      <td>23</td>\n",
       "    </tr>\n",
       "    <tr>\n",
       "      <th>58241</th>\n",
       "      <td>342136</td>\n",
       "      <td>situated at the confluence of the location 1 a...</td>\n",
       "      <td>location 1 is a city in location 3 location 4 ...</td>\n",
       "      <td>NaN</td>\n",
       "      <td>NaN</td>\n",
       "      <td>WikiLarge</td>\n",
       "      <td>text_simplification</td>\n",
       "      <td>NaN</td>\n",
       "      <td>NaN</td>\n",
       "      <td>TS000342145</td>\n",
       "      <td>29</td>\n",
       "    </tr>\n",
       "    <tr>\n",
       "      <th>58242</th>\n",
       "      <td>687198</td>\n",
       "      <td>since the mid 1990s a number of wine brands ha...</td>\n",
       "      <td>top quality corks are quite expensive so many ...</td>\n",
       "      <td>NaN</td>\n",
       "      <td>NaN</td>\n",
       "      <td>WikiSmall</td>\n",
       "      <td>text_simplification</td>\n",
       "      <td>NaN</td>\n",
       "      <td>NaN</td>\n",
       "      <td>TS000687207</td>\n",
       "      <td>24</td>\n",
       "    </tr>\n",
       "    <tr>\n",
       "      <th>58243</th>\n",
       "      <td>743925</td>\n",
       "      <td>third form person 1 s third formdragon ball z ...</td>\n",
       "      <td>third form person 1 s third form is again more...</td>\n",
       "      <td>NaN</td>\n",
       "      <td>NaN</td>\n",
       "      <td>WikiSmall</td>\n",
       "      <td>text_simplification</td>\n",
       "      <td>NaN</td>\n",
       "      <td>NaN</td>\n",
       "      <td>TS000743934</td>\n",
       "      <td>25</td>\n",
       "    </tr>\n",
       "    <tr>\n",
       "      <th>58244</th>\n",
       "      <td>757049</td>\n",
       "      <td>his grandparents were early settlers in northe...</td>\n",
       "      <td>his grandparents were early settlers in northe...</td>\n",
       "      <td>NaN</td>\n",
       "      <td>NaN</td>\n",
       "      <td>WikiSmall</td>\n",
       "      <td>text_simplification</td>\n",
       "      <td>NaN</td>\n",
       "      <td>NaN</td>\n",
       "      <td>TS000757058</td>\n",
       "      <td>21</td>\n",
       "    </tr>\n",
       "  </tbody>\n",
       "</table>\n",
       "<p>58245 rows × 11 columns</p>\n",
       "</div>"
      ],
      "text/plain": [
       "        index                                             source  \\\n",
       "0      452955  he is most famous for scoring the golden goal ...   \n",
       "1      679682  gumbasia lrb available in 2 video formats rrb ...   \n",
       "2      246154  john bull lrb 1562 or 1563 â 15 march 1628 rrb...   \n",
       "3      208482  after a welcoming speech by edward the prince ...   \n",
       "4      415651  his anti fascist political views caused him a ...   \n",
       "...       ...                                                ...   \n",
       "58240  427503  person 1 cbe lrb born number 1 may number 2 in...   \n",
       "58241  342136  situated at the confluence of the location 1 a...   \n",
       "58242  687198  since the mid 1990s a number of wine brands ha...   \n",
       "58243  743925  third form person 1 s third formdragon ball z ...   \n",
       "58244  757049  his grandparents were early settlers in northe...   \n",
       "\n",
       "                                                  target  source_level_og  \\\n",
       "0                                total number 4 number 5              NaN   \n",
       "1      gumbasia lrb available in 2 video formats rrb ...              NaN   \n",
       "2      john bull lrb born 1562 or 1563 died march 15 ...              NaN   \n",
       "3       he said the queen declares this hall is now open              NaN   \n",
       "4      his political ideas gave him a great deal of t...              NaN   \n",
       "...                                                  ...              ...   \n",
       "58240  person 1 lrb born number 1 may number 2 in loc...              NaN   \n",
       "58241  location 1 is a city in location 3 location 4 ...              NaN   \n",
       "58242  top quality corks are quite expensive so many ...              NaN   \n",
       "58243  third form person 1 s third form is again more...              NaN   \n",
       "58244  his grandparents were early settlers in northe...              NaN   \n",
       "\n",
       "       target_level_og data_source            data_type  source_level_cefr  \\\n",
       "0                  NaN   WikiLarge  text_simplification                NaN   \n",
       "1                  NaN   WikiSmall  text_simplification                NaN   \n",
       "2                  NaN   WikiLarge  text_simplification                NaN   \n",
       "3                  NaN   WikiLarge  text_simplification                NaN   \n",
       "4                  NaN   WikiLarge  text_simplification                NaN   \n",
       "...                ...         ...                  ...                ...   \n",
       "58240              NaN   WikiLarge  text_simplification                NaN   \n",
       "58241              NaN   WikiLarge  text_simplification                NaN   \n",
       "58242              NaN   WikiSmall  text_simplification                NaN   \n",
       "58243              NaN   WikiSmall  text_simplification                NaN   \n",
       "58244              NaN   WikiSmall  text_simplification                NaN   \n",
       "\n",
       "       target_level_cefr           id  word_count  \n",
       "0                    NaN  TS000452964          31  \n",
       "1                    NaN  TS000679691          25  \n",
       "2                    NaN  TS000246163          19  \n",
       "3                    NaN  TS000208491          32  \n",
       "4                    NaN  TS000415660          18  \n",
       "...                  ...          ...         ...  \n",
       "58240                NaN  TS000427512          23  \n",
       "58241                NaN  TS000342145          29  \n",
       "58242                NaN  TS000687207          24  \n",
       "58243                NaN  TS000743934          25  \n",
       "58244                NaN  TS000757058          21  \n",
       "\n",
       "[58245 rows x 11 columns]"
      ]
     },
     "execution_count": 38,
     "metadata": {},
     "output_type": "execute_result"
    }
   ],
   "source": [
    "sample_data"
   ]
  },
  {
   "cell_type": "markdown",
   "id": "3822af48-6553-480b-9201-89b014746d59",
   "metadata": {
    "jp-MarkdownHeadingCollapsed": true,
    "tags": []
   },
   "source": [
    "### Downloading the Model"
   ]
  },
  {
   "cell_type": "code",
   "execution_count": 64,
   "id": "4ff7c55a-4bb1-4351-a05f-f7eb765c4e46",
   "metadata": {},
   "outputs": [],
   "source": [
    "BUCKET_NAME = \"XXX\"\n",
    "\n",
    "MODEL_BLOB_NAME = \"CEFR/models/cefr_ktrain_bert/tf_model.h5\"\n",
    "MODEL_FILE_NAME = \"./model/tf_model.h5\"\n",
    "\n",
    "PREPROC_BLOB_NAME = \"CEFR/models/cefr_ktrain_bert/tf_model.preproc\"\n",
    "PREPROC_FILE_NAME = \"./model/tf_model.preproc\"\n",
    "\n",
    "model_load_path = \"gs://XXX/CEFR/models/cefr_ktrain_bert/\""
   ]
  },
  {
   "cell_type": "code",
   "execution_count": 16,
   "id": "2a718a03-3d8d-4be5-8eaf-85c909bbfe05",
   "metadata": {},
   "outputs": [],
   "source": [
    "from google.cloud import storage\n",
    "\n",
    "def download_blob(bucket_name, source_blob_name, destination_file_name):\n",
    "    \"\"\"Downloads a blob from COS bucket.\"\"\"\n",
    "    gcs_client = storage.Client()\n",
    "    bucket = gcs_client.bucket(bucket_name)\n",
    "    blob = bucket.blob(source_blob_name)\n",
    "    blob.download_to_filename(destination_file_name)"
   ]
  },
  {
   "cell_type": "code",
   "execution_count": 18,
   "id": "3634605f-656a-489e-99e2-a45bd5918deb",
   "metadata": {},
   "outputs": [
    {
     "name": "stdout",
     "output_type": "stream",
     "text": [
      "total 1282340\n",
      "drwxr-xr-x 4 jupyter jupyter       4096 May 17 21:05 \u001b[0m\u001b[01;34m.\u001b[0m/\n",
      "drwxr-xr-x 6 jupyter jupyter       4096 May 17 20:14 \u001b[01;34m..\u001b[0m/\n",
      "drwxr-xr-x 2 jupyter jupyter       4096 May 17 20:21 \u001b[01;34m.ipynb_checkpoints\u001b[0m/\n",
      "drwxr-xr-x 2 jupyter jupyter       4096 May 17 20:53 \u001b[01;34m__pycache__\u001b[0m/\n",
      "-rw-r--r-- 1 jupyter jupyter      12225 May 17 20:48 data_prep.py\n",
      "-rw-r--r-- 1 jupyter jupyter      15729 May 17 21:05 predict_cefr_label.ipynb\n",
      "-rw-r--r-- 1 jupyter jupyter 1313066856 May 17 21:06 tf_model.h5\n"
     ]
    }
   ],
   "source": [
    "%ls -al"
   ]
  },
  {
   "cell_type": "code",
   "execution_count": 21,
   "id": "c3fd0cc4-a7c5-463e-bd76-740b4dff3be5",
   "metadata": {},
   "outputs": [],
   "source": [
    "download_blob(bucket_name = BUCKET_NAME, \n",
    "              source_blob_name = MODEL_BLOB_NAME, \n",
    "              destination_file_name = MODEL_FILE_NAME)"
   ]
  },
  {
   "cell_type": "code",
   "execution_count": 22,
   "id": "52462d33-efdf-444d-8ded-e4707ad55601",
   "metadata": {},
   "outputs": [],
   "source": [
    "download_blob(bucket_name = BUCKET_NAME, \n",
    "              source_blob_name = PREPROC_BLOB_NAME, \n",
    "              destination_file_name = PREPROC_FILE_NAME)"
   ]
  },
  {
   "cell_type": "markdown",
   "id": "1343029c-09ee-467f-817d-190ed479f7f6",
   "metadata": {},
   "source": [
    "### Inference"
   ]
  },
  {
   "cell_type": "code",
   "execution_count": 91,
   "id": "b4887647-23a9-4f64-8757-ee74c2060d9f",
   "metadata": {},
   "outputs": [],
   "source": [
    "import ktrain"
   ]
  },
  {
   "cell_type": "code",
   "execution_count": 40,
   "id": "49da4252-2834-48b4-905e-0205b1b38f77",
   "metadata": {},
   "outputs": [],
   "source": [
    "predictor = ktrain.load_predictor(\"model\")"
   ]
  },
  {
   "cell_type": "code",
   "execution_count": null,
   "id": "30a95abd-7416-4e7d-a975-ca77ac67739e",
   "metadata": {},
   "outputs": [
    {
     "name": "stdout",
     "output_type": "stream",
     "text": [
      " 3665/24181 [===>..........................] - ETA: 5:16:01"
     ]
    }
   ],
   "source": [
    "source_labels = predictor.predict(list(df[\"source\"]))"
   ]
  },
  {
   "cell_type": "code",
   "execution_count": null,
   "id": "c5ad6835-afe4-4b81-b48c-a6e1cc74384f",
   "metadata": {},
   "outputs": [],
   "source": [
    "target_labels = predictor.predict(list(df[\"target\"]))"
   ]
  },
  {
   "cell_type": "code",
   "execution_count": null,
   "id": "516ee6ea-ee3b-4681-b211-2b93b18a010b",
   "metadata": {},
   "outputs": [],
   "source": [
    "df[\"source_level_cefr\"] = [label.split(\"_\")[1] for label in source_labels]"
   ]
  },
  {
   "cell_type": "code",
   "execution_count": null,
   "id": "4c07edbd-2d5e-4f26-887e-3caa8abd41d2",
   "metadata": {},
   "outputs": [],
   "source": [
    "df[\"target_level_cefr\"] = [label.split(\"_\")[1] for label in target_labels]"
   ]
  },
  {
   "cell_type": "code",
   "execution_count": null,
   "id": "a1b4f554-e1e2-4ec3-8672-7e8ab87bb6f9",
   "metadata": {},
   "outputs": [],
   "source": [
    "df.to_csv(\"wiki_cefr_labeled.csv\", index=False)"
   ]
  },
  {
   "cell_type": "code",
   "execution_count": 98,
   "id": "1d44e60c-52cc-4942-a327-b511f64947ae",
   "metadata": {},
   "outputs": [
    {
     "name": "stdout",
     "output_type": "stream",
     "text": [
      "Copying file://wiki_cefr_labeled.csv [Content-Type=text/csv]...\n",
      "==> NOTE: You are uploading one or more large file(s), which would run          \n",
      "significantly faster if you enable parallel composite uploads. This\n",
      "feature can be enabled by editing the\n",
      "\"parallel_composite_upload_threshold\" value in your .boto\n",
      "configuration file. However, note that if you do this large files will\n",
      "be uploaded as `composite objects\n",
      "<https://cloud.google.com/storage/docs/composite-objects>`_,which\n",
      "means that any user who downloads such objects will need to have a\n",
      "compiled crcmod installed (see \"gsutil help crcmod\"). This is because\n",
      "without a compiled crcmod, computing checksums on composite objects is\n",
      "so slow that gsutil disables downloads of composite objects.\n",
      "\n",
      "| [1 files][203.6 MiB/203.6 MiB]                                                \n",
      "Operation completed over 1 objects/203.6 MiB.                                    \n"
     ]
    }
   ],
   "source": [
    "!gsutil cp -r wiki_cefr_labeled.csv gs://XXX/Text_Simplification/wiki_cefr_labeled.csv"
   ]
  },
  {
   "cell_type": "code",
   "execution_count": null,
   "id": "a0a4455b-3478-4045-833f-359bff307ea9",
   "metadata": {},
   "outputs": [],
   "source": [
    "import pandas as pd\n",
    "df = pd.read_csv(\"wiki_cefr_labeled.csv\")\n",
    "df.head()"
   ]
  },
  {
   "cell_type": "code",
   "execution_count": 74,
   "id": "dc4b9507-89d7-445e-af51-0f311a07516b",
   "metadata": {},
   "outputs": [
    {
     "data": {
      "text/html": [
       "<div>\n",
       "<style scoped>\n",
       "    .dataframe tbody tr th:only-of-type {\n",
       "        vertical-align: middle;\n",
       "    }\n",
       "\n",
       "    .dataframe tbody tr th {\n",
       "        vertical-align: top;\n",
       "    }\n",
       "\n",
       "    .dataframe thead th {\n",
       "        text-align: right;\n",
       "    }\n",
       "</style>\n",
       "<table border=\"1\" class=\"dataframe\">\n",
       "  <thead>\n",
       "    <tr style=\"text-align: right;\">\n",
       "      <th></th>\n",
       "      <th>source</th>\n",
       "      <th>target</th>\n",
       "      <th>source_level_og</th>\n",
       "      <th>target_level_og</th>\n",
       "      <th>data_source</th>\n",
       "      <th>data_type</th>\n",
       "      <th>source_level_cefr</th>\n",
       "      <th>target_level_cefr</th>\n",
       "      <th>id</th>\n",
       "    </tr>\n",
       "  </thead>\n",
       "  <tbody>\n",
       "    <tr>\n",
       "      <th>1971</th>\n",
       "      <td>two trials met the inclusion criteria one comp...</td>\n",
       "      <td>we found two small studies that presented data...</td>\n",
       "      <td>NaN</td>\n",
       "      <td>NaN</td>\n",
       "      <td>HuggingFace</td>\n",
       "      <td>text_simplification</td>\n",
       "      <td>2</td>\n",
       "      <td>2</td>\n",
       "      <td>TS000001972</td>\n",
       "    </tr>\n",
       "    <tr>\n",
       "      <th>1972</th>\n",
       "      <td>we identified one rct that involved 40 partici...</td>\n",
       "      <td>the searches are up to date to 26 january 2016...</td>\n",
       "      <td>NaN</td>\n",
       "      <td>NaN</td>\n",
       "      <td>HuggingFace</td>\n",
       "      <td>text_simplification</td>\n",
       "      <td>2</td>\n",
       "      <td>2</td>\n",
       "      <td>TS000001973</td>\n",
       "    </tr>\n",
       "    <tr>\n",
       "      <th>1973</th>\n",
       "      <td>we included 13 studies with a total of 721 par...</td>\n",
       "      <td>the benefits of pn are uncertain as the eviden...</td>\n",
       "      <td>NaN</td>\n",
       "      <td>NaN</td>\n",
       "      <td>HuggingFace</td>\n",
       "      <td>text_simplification</td>\n",
       "      <td>2</td>\n",
       "      <td>2</td>\n",
       "      <td>TS000001974</td>\n",
       "    </tr>\n",
       "    <tr>\n",
       "      <th>1974</th>\n",
       "      <td>we included 25 rcts involving 4788 participant...</td>\n",
       "      <td>the findings of this review were inconclusive ...</td>\n",
       "      <td>NaN</td>\n",
       "      <td>NaN</td>\n",
       "      <td>HuggingFace</td>\n",
       "      <td>text_simplification</td>\n",
       "      <td>2</td>\n",
       "      <td>2</td>\n",
       "      <td>TS000001975</td>\n",
       "    </tr>\n",
       "    <tr>\n",
       "      <th>1975</th>\n",
       "      <td>we conducted this review in accordance with th...</td>\n",
       "      <td>we searched published medical articles to find...</td>\n",
       "      <td>NaN</td>\n",
       "      <td>NaN</td>\n",
       "      <td>HuggingFace</td>\n",
       "      <td>text_simplification</td>\n",
       "      <td>2</td>\n",
       "      <td>2</td>\n",
       "      <td>TS000001976</td>\n",
       "    </tr>\n",
       "    <tr>\n",
       "      <th>...</th>\n",
       "      <td>...</td>\n",
       "      <td>...</td>\n",
       "      <td>...</td>\n",
       "      <td>...</td>\n",
       "      <td>...</td>\n",
       "      <td>...</td>\n",
       "      <td>...</td>\n",
       "      <td>...</td>\n",
       "      <td>...</td>\n",
       "    </tr>\n",
       "    <tr>\n",
       "      <th>6425</th>\n",
       "      <td>no trials on modification of food met the incl...</td>\n",
       "      <td>we found two studies which were both part of t...</td>\n",
       "      <td>NaN</td>\n",
       "      <td>NaN</td>\n",
       "      <td>HuggingFace</td>\n",
       "      <td>text_simplification</td>\n",
       "      <td>2</td>\n",
       "      <td>2</td>\n",
       "      <td>TS000006426</td>\n",
       "    </tr>\n",
       "    <tr>\n",
       "      <th>6426</th>\n",
       "      <td>six randomised controlled trials with a total ...</td>\n",
       "      <td>six trials were included with a total of 788 w...</td>\n",
       "      <td>NaN</td>\n",
       "      <td>NaN</td>\n",
       "      <td>HuggingFace</td>\n",
       "      <td>text_simplification</td>\n",
       "      <td>2</td>\n",
       "      <td>2</td>\n",
       "      <td>TS000006427</td>\n",
       "    </tr>\n",
       "    <tr>\n",
       "      <th>6427</th>\n",
       "      <td>we included a total of 984 participants from 1...</td>\n",
       "      <td>we included a total of 811 participants from 1...</td>\n",
       "      <td>NaN</td>\n",
       "      <td>NaN</td>\n",
       "      <td>HuggingFace</td>\n",
       "      <td>text_simplification</td>\n",
       "      <td>2</td>\n",
       "      <td>2</td>\n",
       "      <td>TS000006428</td>\n",
       "    </tr>\n",
       "    <tr>\n",
       "      <th>6428</th>\n",
       "      <td>we included 72 trials that involved 2470 parti...</td>\n",
       "      <td>we identified 72 studies involving 2470 people...</td>\n",
       "      <td>NaN</td>\n",
       "      <td>NaN</td>\n",
       "      <td>HuggingFace</td>\n",
       "      <td>text_simplification</td>\n",
       "      <td>2</td>\n",
       "      <td>2</td>\n",
       "      <td>TS000006429</td>\n",
       "    </tr>\n",
       "    <tr>\n",
       "      <th>6429</th>\n",
       "      <td>we identified five rcts 1330 participants that...</td>\n",
       "      <td>we examined the research published up to 6 mar...</td>\n",
       "      <td>NaN</td>\n",
       "      <td>NaN</td>\n",
       "      <td>HuggingFace</td>\n",
       "      <td>text_simplification</td>\n",
       "      <td>1</td>\n",
       "      <td>2</td>\n",
       "      <td>TS000006430</td>\n",
       "    </tr>\n",
       "  </tbody>\n",
       "</table>\n",
       "<p>4459 rows × 9 columns</p>\n",
       "</div>"
      ],
      "text/plain": [
       "                                                 source  \\\n",
       "1971  two trials met the inclusion criteria one comp...   \n",
       "1972  we identified one rct that involved 40 partici...   \n",
       "1973  we included 13 studies with a total of 721 par...   \n",
       "1974  we included 25 rcts involving 4788 participant...   \n",
       "1975  we conducted this review in accordance with th...   \n",
       "...                                                 ...   \n",
       "6425  no trials on modification of food met the incl...   \n",
       "6426  six randomised controlled trials with a total ...   \n",
       "6427  we included a total of 984 participants from 1...   \n",
       "6428  we included 72 trials that involved 2470 parti...   \n",
       "6429  we identified five rcts 1330 participants that...   \n",
       "\n",
       "                                                 target  source_level_og  \\\n",
       "1971  we found two small studies that presented data...              NaN   \n",
       "1972  the searches are up to date to 26 january 2016...              NaN   \n",
       "1973  the benefits of pn are uncertain as the eviden...              NaN   \n",
       "1974  the findings of this review were inconclusive ...              NaN   \n",
       "1975  we searched published medical articles to find...              NaN   \n",
       "...                                                 ...              ...   \n",
       "6425  we found two studies which were both part of t...              NaN   \n",
       "6426  six trials were included with a total of 788 w...              NaN   \n",
       "6427  we included a total of 811 participants from 1...              NaN   \n",
       "6428  we identified 72 studies involving 2470 people...              NaN   \n",
       "6429  we examined the research published up to 6 mar...              NaN   \n",
       "\n",
       "      target_level_og  data_source            data_type source_level_cefr  \\\n",
       "1971              NaN  HuggingFace  text_simplification                 2   \n",
       "1972              NaN  HuggingFace  text_simplification                 2   \n",
       "1973              NaN  HuggingFace  text_simplification                 2   \n",
       "1974              NaN  HuggingFace  text_simplification                 2   \n",
       "1975              NaN  HuggingFace  text_simplification                 2   \n",
       "...               ...          ...                  ...               ...   \n",
       "6425              NaN  HuggingFace  text_simplification                 2   \n",
       "6426              NaN  HuggingFace  text_simplification                 2   \n",
       "6427              NaN  HuggingFace  text_simplification                 2   \n",
       "6428              NaN  HuggingFace  text_simplification                 2   \n",
       "6429              NaN  HuggingFace  text_simplification                 1   \n",
       "\n",
       "     target_level_cefr           id  \n",
       "1971                 2  TS000001972  \n",
       "1972                 2  TS000001973  \n",
       "1973                 2  TS000001974  \n",
       "1974                 2  TS000001975  \n",
       "1975                 2  TS000001976  \n",
       "...                ...          ...  \n",
       "6425                 2  TS000006426  \n",
       "6426                 2  TS000006427  \n",
       "6427                 2  TS000006428  \n",
       "6428                 2  TS000006429  \n",
       "6429                 2  TS000006430  \n",
       "\n",
       "[4459 rows x 9 columns]"
      ]
     },
     "execution_count": 74,
     "metadata": {},
     "output_type": "execute_result"
    }
   ],
   "source": [
    "df"
   ]
  },
  {
   "cell_type": "code",
   "execution_count": 75,
   "id": "e9eaeca2-6e0e-4daa-a6b1-6fb93ad1c259",
   "metadata": {},
   "outputs": [],
   "source": [
    "df[\"category\"] = df[\"source_level_cefr\"] + \"->\" + df[\"target_level_cefr\"]"
   ]
  },
  {
   "cell_type": "code",
   "execution_count": 76,
   "id": "bb609a86-a8c2-4b4f-8eb0-2325ec293955",
   "metadata": {},
   "outputs": [
    {
     "data": {
      "image/png": "[encoded data removed]",
      "text/plain": [
       "<Figure size 1200x600 with 1 Axes>"
      ]
     },
     "metadata": {},
     "output_type": "display_data"
    }
   ],
   "source": [
    "import pandas as pd\n",
    "import seaborn as sns\n",
    "import matplotlib.pyplot as plt\n",
    "\n",
    "# Set the style and context of the plot to make it look professional\n",
    "sns.set_style(\"whitegrid\")\n",
    "sns.set_context(\"notebook\", font_scale=1.5, rc={\"lines.linewidth\": 2.5})\n",
    "\n",
    "# Create the histogram\n",
    "plt.figure(figsize=(12, 6))\n",
    "hist_plot = sns.countplot(x='category', data=df, palette=\"viridis\")\n",
    "\n",
    "# Set plot labels\n",
    "plt.title('Histogram for CEFR Mapping from Source to Simplified Text', fontsize=20)\n",
    "plt.xlabel('Category', fontsize=15)\n",
    "plt.ylabel('Count', fontsize=15)\n",
    "\n",
    "# Rotate x-axis labels for better visibility if they're long\n",
    "hist_plot.set_xticklabels(hist_plot.get_xticklabels(), rotation=45, horizontalalignment='right')\n",
    "\n",
    "# Show the plot\n",
    "plt.show()\n"
   ]
  },
  {
   "cell_type": "code",
   "execution_count": null,
   "id": "071a31d3-9970-405c-b518-594fec9813b9",
   "metadata": {},
   "outputs": [],
   "source": []
  }
 ],
 "metadata": {
  "environment": {
   "kernel": "python3",
   "name": "tf2-gpu.2-9.m107",
   "type": "gcloud",
   "uri": "gcr.io/deeplearning-platform-release/tf2-gpu.2-9:m107"
  },
  "kernelspec": {
   "display_name": "Python 3 (ipykernel)",
   "language": "python",
   "name": "python3"
  },
  "language_info": {
   "codemirror_mode": {
    "name": "ipython",
    "version": 3
   },
   "file_extension": ".py",
   "mimetype": "text/x-python",
   "name": "python",
   "nbconvert_exporter": "python",
   "pygments_lexer": "ipython3",
   "version": "3.7.12"
  }
 },
 "nbformat": 4,
 "nbformat_minor": 5
}
