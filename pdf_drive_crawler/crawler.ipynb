{
 "cells": [
  {
   "cell_type": "code",
   "execution_count": 71,
   "metadata": {},
   "outputs": [],
   "source": [
    "import pandas as pd\n",
    "import numpy as np\n",
    "\n",
    "from selenium import webdriver\n",
    "import time\n",
    "from selenium.webdriver.common.by import By\n",
    "from selenium.webdriver.support.ui import WebDriverWait\n",
    "from selenium.webdriver.support import expected_conditions as EC\n",
    "from selenium.webdriver.support.ui import Select\n",
    "\n",
    "from bs4 import BeautifulSoup\n"
   ]
  },
  {
   "cell_type": "code",
   "execution_count": 94,
   "metadata": {},
   "outputs": [],
   "source": [
    "### CONTROL FUNCTIONS ###\n",
    "def pass_promotion(driver):\n",
    "    element = driver.find_element(by=By.XPATH, value=\"/html/body/div[3]/div[2]/div/div/div/i\")\n",
    "    # Click on the element\n",
    "    element.click()\n",
    "\n",
    "def check_and_pass_promotion(driver):\n",
    "    for i in range(5):\n",
    "        try:\n",
    "            # Wait for the element to be visible\n",
    "            element = WebDriverWait(driver, 10).until(\n",
    "                EC.presence_of_element_located((By.XPATH, f\"/html/body/div[3]/div[{i}]/div/div/div/i\"))\n",
    "            )\n",
    "            # Click on the element\n",
    "            element.click()\n",
    "            \n",
    "        except:\n",
    "            pass\n",
    "\n",
    "    "
   ]
  },
  {
   "cell_type": "code",
   "execution_count": 89,
   "metadata": {},
   "outputs": [],
   "source": [
    "WAIT = WebDriverWait(driver, 10) # 10 seconds timeout\n",
    "BASE_URL = \"https://www.pdfdrive.com\"\n",
    "\n",
    "def start_crawling():\n",
    "    driver = webdriver.Chrome(executable_path='/usr/bin/chromedriver' )\n",
    "\n",
    "    # Set up WebDriverWait with a timeout\n",
    "\n",
    "    driver.get(BASE_URL)\n",
    "\n",
    "    driver.maximize_window()\n",
    "    time.sleep(10)\n",
    "    return driver"
   ]
  },
  {
   "cell_type": "code",
   "execution_count": 74,
   "metadata": {},
   "outputs": [
    {
     "data": {
      "text/html": [
       "<div>\n",
       "<style scoped>\n",
       "    .dataframe tbody tr th:only-of-type {\n",
       "        vertical-align: middle;\n",
       "    }\n",
       "\n",
       "    .dataframe tbody tr th {\n",
       "        vertical-align: top;\n",
       "    }\n",
       "\n",
       "    .dataframe thead th {\n",
       "        text-align: right;\n",
       "    }\n",
       "</style>\n",
       "<table border=\"1\" class=\"dataframe\">\n",
       "  <thead>\n",
       "    <tr style=\"text-align: right;\">\n",
       "      <th></th>\n",
       "      <th>Title</th>\n",
       "      <th>Author</th>\n",
       "      <th>Language Level</th>\n",
       "    </tr>\n",
       "  </thead>\n",
       "  <tbody>\n",
       "    <tr>\n",
       "      <th>0</th>\n",
       "      <td>Hop on Pop</td>\n",
       "      <td>Dr. Seuss</td>\n",
       "      <td>level_6a</td>\n",
       "    </tr>\n",
       "    <tr>\n",
       "      <th>1</th>\n",
       "      <td>Jesse Bear,What Will You Wear?</td>\n",
       "      <td>Nancy White Carlstrom</td>\n",
       "      <td>level_6a</td>\n",
       "    </tr>\n",
       "    <tr>\n",
       "      <th>2</th>\n",
       "      <td>Eating the Alphabet: Fruits and Vegetables fro...</td>\n",
       "      <td>Lois Ehlert</td>\n",
       "      <td>level_6a</td>\n",
       "    </tr>\n",
       "    <tr>\n",
       "      <th>3</th>\n",
       "      <td>Black? White! Day? Night!</td>\n",
       "      <td>Laura Vaccaro Seeger</td>\n",
       "      <td>level_6a</td>\n",
       "    </tr>\n",
       "    <tr>\n",
       "      <th>4</th>\n",
       "      <td>Big Red Barn</td>\n",
       "      <td>Margaret Wise Brown</td>\n",
       "      <td>level_6a</td>\n",
       "    </tr>\n",
       "  </tbody>\n",
       "</table>\n",
       "</div>"
      ],
      "text/plain": [
       "                                               Title                 Author   \n",
       "0                                         Hop on Pop              Dr. Seuss  \\\n",
       "1                     Jesse Bear,What Will You Wear?  Nancy White Carlstrom   \n",
       "2  Eating the Alphabet: Fruits and Vegetables fro...            Lois Ehlert   \n",
       "3                          Black? White! Day? Night!   Laura Vaccaro Seeger   \n",
       "4                                       Big Red Barn    Margaret Wise Brown   \n",
       "\n",
       "  Language Level  \n",
       "0       level_6a  \n",
       "1       level_6a  \n",
       "2       level_6a  \n",
       "3       level_6a  \n",
       "4       level_6a  "
      ]
     },
     "execution_count": 74,
     "metadata": {},
     "output_type": "execute_result"
    }
   ],
   "source": [
    "# import the book_level.csv file\n",
    "book_level = pd.read_csv('book_levels.csv')\n",
    "book_level.head()"
   ]
  },
  {
   "cell_type": "code",
   "execution_count": 76,
   "metadata": {},
   "outputs": [
    {
     "name": "stdout",
     "output_type": "stream",
     "text": [
      "Entering book name Hop on Pop\n"
     ]
    }
   ],
   "source": [
    "def search_book(driver, book_name):\n",
    "    check_and_pass_promotion(driver)\n",
    "    driver.find_element(By.ID, \"q\").send_keys(book_name)\n",
    "    driver.find_element(By.XPATH, \"/html/body/div[2]/div/div[2]/form/button\").click()\n",
    "    print(f'Entering book name {book_name}')\n",
    "\n",
    "# search_book(driver, book_name)"
   ]
  },
  {
   "cell_type": "code",
   "execution_count": 78,
   "metadata": {},
   "outputs": [
    {
     "name": "stdout",
     "output_type": "stream",
     "text": [
      "/hop-on-pop-beginner-books-e185002882.html\n",
      "Clicked on the book details\n"
     ]
    }
   ],
   "source": [
    "def get_the_first_book_hyperlink(html_source):\n",
    "    # Parse the HTML source with BeautifulSoup\n",
    "    soup = BeautifulSoup(html_source, 'lxml')\n",
    "\n",
    "    # Find the 'a' tag with the class 'ai-search'\n",
    "    a_tag = soup.find('a', class_='ai-search')\n",
    "\n",
    "    # Extract the hyperlink from the 'a' tag\n",
    "    hyperlink = a_tag['href']\n",
    "\n",
    "    print(hyperlink)\n",
    "\n",
    "    url = BASE_URL + hyperlink\n",
    "\n",
    "    return url\n",
    "\n",
    "def click_book_details(driver):\n",
    "    check_and_pass_promotion(driver)\n",
    "    # Get the entire HTML source of the current page\n",
    "    html_source = driver.page_source\n",
    "\n",
    "    url = get_the_first_book_hyperlink(html_source)\n",
    "    driver.get(url)\n",
    "\n",
    "    # Wait for the page's title to be present\n",
    "    WAIT.until(EC.presence_of_element_located((By.TAG_NAME, 'title')))\n",
    "\n",
    "    print(\"Clicked on the book details\")\n",
    "    \n",
    "    return driver\n",
    "\n",
    "# driver = click_book_details(driver)\n"
   ]
  },
  {
   "cell_type": "code",
   "execution_count": 79,
   "metadata": {},
   "outputs": [
    {
     "name": "stdout",
     "output_type": "stream",
     "text": [
      "Clicked to download button\n"
     ]
    },
    {
     "data": {
      "text/plain": [
       "<selenium.webdriver.chrome.webdriver.WebDriver (session=\"22aee431923954099d08697a8235cdf9\")>"
      ]
     },
     "execution_count": 79,
     "metadata": {},
     "output_type": "execute_result"
    }
   ],
   "source": [
    "def get_download_button_hyperlink(html_source):\n",
    "    \"\"\"\n",
    "    Click the download button in the book details page\n",
    "    \"\"\"\n",
    "    soup = BeautifulSoup(html_source, 'lxml')\n",
    "\n",
    "    # Find the 'a' tag with the id 'download-button-link'\n",
    "    a_tag = soup.find('a', id='download-button-link')\n",
    "\n",
    "    # Extract the href attribute from the 'a' tag\n",
    "    hyperlink = a_tag['href']\n",
    "\n",
    "    url = BASE_URL + hyperlink\n",
    "\n",
    "    return url\n",
    "\n",
    "\n",
    "def click_download_button(driver):\n",
    "    # Get the entire HTML source of the current page\n",
    "    html_source = driver.page_source\n",
    "\n",
    "    url = get_download_button_hyperlink(html_source)\n",
    "    driver.get(url)\n",
    "\n",
    "    # Wait for the page's title to be present\n",
    "    WAIT.until(EC.presence_of_element_located((By.TAG_NAME, 'title')))\n",
    "\n",
    "    print(\"Clicked to download button\")\n",
    "    \n",
    "    return driver\n",
    "\n",
    "# click_download_button(driver)"
   ]
  },
  {
   "cell_type": "code",
   "execution_count": 88,
   "metadata": {},
   "outputs": [
    {
     "name": "stdout",
     "output_type": "stream",
     "text": [
      "https://www.pdfdrive.com/download.pdf?id=185002882&h=65f5400b93728ba2f8f9dc08767b3690&u=cache&ext=pdf\n",
      "https://www.pdfdrive.com/download.pdf?id=185002882&h=65f5400b93728ba2f8f9dc08767b3690&u=cache&ext=pdf\n"
     ]
    },
    {
     "data": {
      "text/plain": [
       "<selenium.webdriver.chrome.webdriver.WebDriver (session=\"c1b508e498743c8360345ade985e42dd\")>"
      ]
     },
     "execution_count": 88,
     "metadata": {},
     "output_type": "execute_result"
    }
   ],
   "source": [
    "def get_download_link():\n",
    "    wait = WebDriverWait(driver, 20) # 10 seconds timeout\n",
    "\n",
    "    # Wait for the button to be visible and clickable\n",
    "    button = wait.until(EC.element_to_be_clickable((By.XPATH, '//a[@class=\"btn btn-primary btn-user\"]')))\n",
    "\n",
    "    # Extract the hyperlink from the button\n",
    "    hyperlink = button.get_attribute('href')\n",
    "    print(hyperlink)\n",
    "\n",
    "    return hyperlink\n",
    "\n",
    "def download_book(driver):\n",
    "    check_and_pass_promotion(driver)\n",
    "    wait = WebDriverWait(driver, 20) # 10 seconds timeout\n",
    "\n",
    "    # Get the entire HTML source of the current page\n",
    "    html_source = driver.page_source\n",
    "\n",
    "    url = get_download_link()\n",
    "    print(url)\n",
    "    driver.get(url)\n",
    "\n",
    "    # Wait for the page's title to be present\n",
    "    WAIT.until(EC.presence_of_element_located((By.TAG_NAME, 'title')))\n",
    "    \n",
    "    return driver\n",
    "\n",
    "# download_book(driver)"
   ]
  },
  {
   "cell_type": "code",
   "execution_count": null,
   "metadata": {},
   "outputs": [],
   "source": [
    "def check_book_file_type(driver):\n",
    "    html_source = driver.page_source\n",
    "\n",
    "    soup = BeautifulSoup(html_source, 'html.parser')\n",
    "    text = soup.get_text().strip()\n",
    "\n",
    "    is_epub = 'EPUB' in text\n",
    "    return is_epub"
   ]
  },
  {
   "cell_type": "code",
   "execution_count": 90,
   "metadata": {},
   "outputs": [
    {
     "name": "stderr",
     "output_type": "stream",
     "text": [
      "/var/folders/6_/lmvrh06d1xd8hmgpjs0_y8qm0000gn/T/ipykernel_65242/3874679089.py:5: DeprecationWarning: executable_path has been deprecated, please pass in a Service object\n",
      "  driver = webdriver.Chrome(executable_path='/usr/bin/chromedriver' )\n"
     ]
    },
    {
     "name": "stdout",
     "output_type": "stream",
     "text": [
      "Hop on Pop\n",
      "Entering book name Hop on Pop\n",
      "/hop-on-pop-beginner-books-e185002882.html\n",
      "Clicked on the book details\n",
      "Clicked to download button\n",
      "https://www.pdfdrive.com/download.pdf?id=185002882&h=65f5400b93728ba2f8f9dc08767b3690&u=cache&ext=pdf\n",
      "https://www.pdfdrive.com/download.pdf?id=185002882&h=65f5400b93728ba2f8f9dc08767b3690&u=cache&ext=pdf\n",
      "Jesse Bear,What Will You Wear?\n",
      "Entering book name Jesse Bear,What Will You Wear?\n",
      "/calm-the-fck-down-how-to-control-what-you-can-and-accept-what-you-cant-so-you-can-stop-freaking-e157109618.html\n",
      "Clicked on the book details\n",
      "Clicked to download button\n",
      "https://www.pdfdrive.com/download.pdf?id=157109618&h=6f999ffb718eb996f5d8597b63fe7ecb&u=cache&ext=epub\n",
      "https://www.pdfdrive.com/download.pdf?id=157109618&h=6f999ffb718eb996f5d8597b63fe7ecb&u=cache&ext=epub\n",
      "Eating the Alphabet: Fruits and Vegetables from A to Z\n",
      "Entering book name Eating the Alphabet: Fruits and Vegetables from A to Z\n",
      "/the-grow-your-own-food-handbook-a-back-to-basics-guide-to-planting-growing-and-harvesting-fruits-and-vegetables-e162768803.html\n",
      "Clicked on the book details\n",
      "Clicked to download button\n",
      "https://www.pdfdrive.com/download.pdf?id=162768803&h=a2f84d614c1761d6dc4735193ebd2b60&u=cache&ext=epub\n",
      "https://www.pdfdrive.com/download.pdf?id=162768803&h=a2f84d614c1761d6dc4735193ebd2b60&u=cache&ext=epub\n",
      "Black? White! Day? Night!\n"
     ]
    },
    {
     "ename": "ElementNotInteractableException",
     "evalue": "Message: element not interactable\n  (Session info: chrome=112.0.5615.137)\nStacktrace:\n0   chromedriver                        0x0000000107fa0ae8 chromedriver + 4958952\n1   chromedriver                        0x0000000107f987b3 chromedriver + 4925363\n2   chromedriver                        0x0000000107b5a051 chromedriver + 475217\n3   chromedriver                        0x0000000107b95c2c chromedriver + 719916\n4   chromedriver                        0x0000000107b950f6 chromedriver + 717046\n5   chromedriver                        0x0000000107bc3c12 chromedriver + 908306\n6   chromedriver                        0x0000000107b8f8f1 chromedriver + 694513\n7   chromedriver                        0x0000000107bc3dce chromedriver + 908750\n8   chromedriver                        0x0000000107bdf25b chromedriver + 1020507\n9   chromedriver                        0x0000000107bc39e3 chromedriver + 907747\n10  chromedriver                        0x0000000107b8daef chromedriver + 686831\n11  chromedriver                        0x0000000107b8f00e chromedriver + 692238\n12  chromedriver                        0x0000000107f5c9ad chromedriver + 4680109\n13  chromedriver                        0x0000000107f61c12 chromedriver + 4701202\n14  chromedriver                        0x0000000107f6879f chromedriver + 4728735\n15  chromedriver                        0x0000000107f62b7a chromedriver + 4705146\n16  chromedriver                        0x0000000107f3527e chromedriver + 4518526\n17  chromedriver                        0x0000000107f82908 chromedriver + 4835592\n18  chromedriver                        0x0000000107f82a87 chromedriver + 4835975\n19  chromedriver                        0x0000000107f9200f chromedriver + 4898831\n20  libsystem_pthread.dylib             0x00007ff81a9501d3 _pthread_start + 125\n21  libsystem_pthread.dylib             0x00007ff81a94bbd3 thread_start + 15\n",
     "output_type": "error",
     "traceback": [
      "\u001b[0;31m---------------------------------------------------------------------------\u001b[0m",
      "\u001b[0;31mElementNotInteractableException\u001b[0m           Traceback (most recent call last)",
      "Cell \u001b[0;32mIn[90], line 9\u001b[0m\n\u001b[1;32m      7\u001b[0m book_name \u001b[39m=\u001b[39m book_level[\u001b[39m'\u001b[39m\u001b[39mTitle\u001b[39m\u001b[39m'\u001b[39m][i]\n\u001b[1;32m      8\u001b[0m \u001b[39mprint\u001b[39m(book_name)\n\u001b[0;32m----> 9\u001b[0m search_book(driver, book_name)\n\u001b[1;32m     10\u001b[0m driver \u001b[39m=\u001b[39m click_book_details(driver)\n\u001b[1;32m     11\u001b[0m driver \u001b[39m=\u001b[39m click_download_button(driver)\n",
      "Cell \u001b[0;32mIn[76], line 3\u001b[0m, in \u001b[0;36msearch_book\u001b[0;34m(driver, book_name)\u001b[0m\n\u001b[1;32m      1\u001b[0m \u001b[39mdef\u001b[39;00m \u001b[39msearch_book\u001b[39m(driver, book_name):\n\u001b[1;32m      2\u001b[0m     check_and_pass_promotion(driver)\n\u001b[0;32m----> 3\u001b[0m     driver\u001b[39m.\u001b[39;49mfind_element(By\u001b[39m.\u001b[39;49mID, \u001b[39m\"\u001b[39;49m\u001b[39mq\u001b[39;49m\u001b[39m\"\u001b[39;49m)\u001b[39m.\u001b[39;49msend_keys(book_name)\n\u001b[1;32m      4\u001b[0m     driver\u001b[39m.\u001b[39mfind_element(By\u001b[39m.\u001b[39mXPATH, \u001b[39m\"\u001b[39m\u001b[39m/html/body/div[2]/div/div[2]/form/button\u001b[39m\u001b[39m\"\u001b[39m)\u001b[39m.\u001b[39mclick()\n\u001b[1;32m      5\u001b[0m     \u001b[39mprint\u001b[39m(\u001b[39mf\u001b[39m\u001b[39m'\u001b[39m\u001b[39mEntering book name \u001b[39m\u001b[39m{\u001b[39;00mbook_name\u001b[39m}\u001b[39;00m\u001b[39m'\u001b[39m)\n",
      "File \u001b[0;32m/Library/Frameworks/Python.framework/Versions/3.11/lib/python3.11/site-packages/selenium/webdriver/remote/webelement.py:231\u001b[0m, in \u001b[0;36mWebElement.send_keys\u001b[0;34m(self, *value)\u001b[0m\n\u001b[1;32m    228\u001b[0m             remote_files\u001b[39m.\u001b[39mappend(\u001b[39mself\u001b[39m\u001b[39m.\u001b[39m_upload(file))\n\u001b[1;32m    229\u001b[0m         value \u001b[39m=\u001b[39m \u001b[39m\"\u001b[39m\u001b[39m\\n\u001b[39;00m\u001b[39m\"\u001b[39m\u001b[39m.\u001b[39mjoin(remote_files)\n\u001b[0;32m--> 231\u001b[0m \u001b[39mself\u001b[39;49m\u001b[39m.\u001b[39;49m_execute(\n\u001b[1;32m    232\u001b[0m     Command\u001b[39m.\u001b[39;49mSEND_KEYS_TO_ELEMENT, {\u001b[39m\"\u001b[39;49m\u001b[39mtext\u001b[39;49m\u001b[39m\"\u001b[39;49m: \u001b[39m\"\u001b[39;49m\u001b[39m\"\u001b[39;49m\u001b[39m.\u001b[39;49mjoin(keys_to_typing(value)), \u001b[39m\"\u001b[39;49m\u001b[39mvalue\u001b[39;49m\u001b[39m\"\u001b[39;49m: keys_to_typing(value)}\n\u001b[1;32m    233\u001b[0m )\n",
      "File \u001b[0;32m/Library/Frameworks/Python.framework/Versions/3.11/lib/python3.11/site-packages/selenium/webdriver/remote/webelement.py:404\u001b[0m, in \u001b[0;36mWebElement._execute\u001b[0;34m(self, command, params)\u001b[0m\n\u001b[1;32m    402\u001b[0m     params \u001b[39m=\u001b[39m {}\n\u001b[1;32m    403\u001b[0m params[\u001b[39m\"\u001b[39m\u001b[39mid\u001b[39m\u001b[39m\"\u001b[39m] \u001b[39m=\u001b[39m \u001b[39mself\u001b[39m\u001b[39m.\u001b[39m_id\n\u001b[0;32m--> 404\u001b[0m \u001b[39mreturn\u001b[39;00m \u001b[39mself\u001b[39;49m\u001b[39m.\u001b[39;49m_parent\u001b[39m.\u001b[39;49mexecute(command, params)\n",
      "File \u001b[0;32m/Library/Frameworks/Python.framework/Versions/3.11/lib/python3.11/site-packages/selenium/webdriver/remote/webdriver.py:440\u001b[0m, in \u001b[0;36mWebDriver.execute\u001b[0;34m(self, driver_command, params)\u001b[0m\n\u001b[1;32m    438\u001b[0m response \u001b[39m=\u001b[39m \u001b[39mself\u001b[39m\u001b[39m.\u001b[39mcommand_executor\u001b[39m.\u001b[39mexecute(driver_command, params)\n\u001b[1;32m    439\u001b[0m \u001b[39mif\u001b[39;00m response:\n\u001b[0;32m--> 440\u001b[0m     \u001b[39mself\u001b[39;49m\u001b[39m.\u001b[39;49merror_handler\u001b[39m.\u001b[39;49mcheck_response(response)\n\u001b[1;32m    441\u001b[0m     response[\u001b[39m\"\u001b[39m\u001b[39mvalue\u001b[39m\u001b[39m\"\u001b[39m] \u001b[39m=\u001b[39m \u001b[39mself\u001b[39m\u001b[39m.\u001b[39m_unwrap_value(response\u001b[39m.\u001b[39mget(\u001b[39m\"\u001b[39m\u001b[39mvalue\u001b[39m\u001b[39m\"\u001b[39m, \u001b[39mNone\u001b[39;00m))\n\u001b[1;32m    442\u001b[0m     \u001b[39mreturn\u001b[39;00m response\n",
      "File \u001b[0;32m/Library/Frameworks/Python.framework/Versions/3.11/lib/python3.11/site-packages/selenium/webdriver/remote/errorhandler.py:245\u001b[0m, in \u001b[0;36mErrorHandler.check_response\u001b[0;34m(self, response)\u001b[0m\n\u001b[1;32m    243\u001b[0m         alert_text \u001b[39m=\u001b[39m value[\u001b[39m\"\u001b[39m\u001b[39malert\u001b[39m\u001b[39m\"\u001b[39m]\u001b[39m.\u001b[39mget(\u001b[39m\"\u001b[39m\u001b[39mtext\u001b[39m\u001b[39m\"\u001b[39m)\n\u001b[1;32m    244\u001b[0m     \u001b[39mraise\u001b[39;00m exception_class(message, screen, stacktrace, alert_text)  \u001b[39m# type: ignore[call-arg]  # mypy is not smart enough here\u001b[39;00m\n\u001b[0;32m--> 245\u001b[0m \u001b[39mraise\u001b[39;00m exception_class(message, screen, stacktrace)\n",
      "\u001b[0;31mElementNotInteractableException\u001b[0m: Message: element not interactable\n  (Session info: chrome=112.0.5615.137)\nStacktrace:\n0   chromedriver                        0x0000000107fa0ae8 chromedriver + 4958952\n1   chromedriver                        0x0000000107f987b3 chromedriver + 4925363\n2   chromedriver                        0x0000000107b5a051 chromedriver + 475217\n3   chromedriver                        0x0000000107b95c2c chromedriver + 719916\n4   chromedriver                        0x0000000107b950f6 chromedriver + 717046\n5   chromedriver                        0x0000000107bc3c12 chromedriver + 908306\n6   chromedriver                        0x0000000107b8f8f1 chromedriver + 694513\n7   chromedriver                        0x0000000107bc3dce chromedriver + 908750\n8   chromedriver                        0x0000000107bdf25b chromedriver + 1020507\n9   chromedriver                        0x0000000107bc39e3 chromedriver + 907747\n10  chromedriver                        0x0000000107b8daef chromedriver + 686831\n11  chromedriver                        0x0000000107b8f00e chromedriver + 692238\n12  chromedriver                        0x0000000107f5c9ad chromedriver + 4680109\n13  chromedriver                        0x0000000107f61c12 chromedriver + 4701202\n14  chromedriver                        0x0000000107f6879f chromedriver + 4728735\n15  chromedriver                        0x0000000107f62b7a chromedriver + 4705146\n16  chromedriver                        0x0000000107f3527e chromedriver + 4518526\n17  chromedriver                        0x0000000107f82908 chromedriver + 4835592\n18  chromedriver                        0x0000000107f82a87 chromedriver + 4835975\n19  chromedriver                        0x0000000107f9200f chromedriver + 4898831\n20  libsystem_pthread.dylib             0x00007ff81a9501d3 _pthread_start + 125\n21  libsystem_pthread.dylib             0x00007ff81a94bbd3 thread_start + 15\n"
     ]
    }
   ],
   "source": [
    "# import the book_level.csv file\n",
    "book_level = pd.read_csv('book_levels.csv')\n",
    "\n",
    "driver = start_crawling()\n",
    "\n",
    "for i in range(0, len(book_level)):\n",
    "    book_name = book_level['Title'][i]\n",
    "    print(book_name)\n",
    "    search_book(driver, book_name)\n",
    "    driver = click_book_details(driver)\n",
    "    driver = click_download_button(driver)\n",
    "    driver = download_book(driver)\n",
    "    time.sleep(10)"
   ]
  },
  {
   "cell_type": "code",
   "execution_count": 93,
   "metadata": {},
   "outputs": [
    {
     "ename": "ElementNotInteractableException",
     "evalue": "Message: element not interactable\n  (Session info: chrome=112.0.5615.137)\nStacktrace:\n0   chromedriver                        0x0000000107fa0ae8 chromedriver + 4958952\n1   chromedriver                        0x0000000107f987b3 chromedriver + 4925363\n2   chromedriver                        0x0000000107b5a051 chromedriver + 475217\n3   chromedriver                        0x0000000107b9f2e8 chromedriver + 758504\n4   chromedriver                        0x0000000107b90283 chromedriver + 696963\n5   chromedriver                        0x0000000107bc3c12 chromedriver + 908306\n6   chromedriver                        0x0000000107b8f8f1 chromedriver + 694513\n7   chromedriver                        0x0000000107bc3dce chromedriver + 908750\n8   chromedriver                        0x0000000107bdf25b chromedriver + 1020507\n9   chromedriver                        0x0000000107bc39e3 chromedriver + 907747\n10  chromedriver                        0x0000000107b8daef chromedriver + 686831\n11  chromedriver                        0x0000000107b8f00e chromedriver + 692238\n12  chromedriver                        0x0000000107f5c9ad chromedriver + 4680109\n13  chromedriver                        0x0000000107f61c12 chromedriver + 4701202\n14  chromedriver                        0x0000000107f6879f chromedriver + 4728735\n15  chromedriver                        0x0000000107f62b7a chromedriver + 4705146\n16  chromedriver                        0x0000000107f3527e chromedriver + 4518526\n17  chromedriver                        0x0000000107f82908 chromedriver + 4835592\n18  chromedriver                        0x0000000107f82a87 chromedriver + 4835975\n19  chromedriver                        0x0000000107f9200f chromedriver + 4898831\n20  libsystem_pthread.dylib             0x00007ff81a9501d3 _pthread_start + 125\n21  libsystem_pthread.dylib             0x00007ff81a94bbd3 thread_start + 15\n",
     "output_type": "error",
     "traceback": [
      "\u001b[0;31m---------------------------------------------------------------------------\u001b[0m",
      "\u001b[0;31mElementNotInteractableException\u001b[0m           Traceback (most recent call last)",
      "Cell \u001b[0;32mIn[93], line 1\u001b[0m\n\u001b[0;32m----> 1\u001b[0m pass_promotion(driver)\n",
      "Cell \u001b[0;32mIn[85], line 5\u001b[0m, in \u001b[0;36mpass_promotion\u001b[0;34m(driver)\u001b[0m\n\u001b[1;32m      3\u001b[0m element \u001b[39m=\u001b[39m driver\u001b[39m.\u001b[39mfind_element(by\u001b[39m=\u001b[39mBy\u001b[39m.\u001b[39mXPATH, value\u001b[39m=\u001b[39m\u001b[39m\"\u001b[39m\u001b[39m/html/body/div[3]/div[2]/div/div/div/i\u001b[39m\u001b[39m\"\u001b[39m)\n\u001b[1;32m      4\u001b[0m \u001b[39m# Click on the element\u001b[39;00m\n\u001b[0;32m----> 5\u001b[0m element\u001b[39m.\u001b[39;49mclick()\n",
      "File \u001b[0;32m/Library/Frameworks/Python.framework/Versions/3.11/lib/python3.11/site-packages/selenium/webdriver/remote/webelement.py:94\u001b[0m, in \u001b[0;36mWebElement.click\u001b[0;34m(self)\u001b[0m\n\u001b[1;32m     92\u001b[0m \u001b[39mdef\u001b[39;00m \u001b[39mclick\u001b[39m(\u001b[39mself\u001b[39m) \u001b[39m-\u001b[39m\u001b[39m>\u001b[39m \u001b[39mNone\u001b[39;00m:\n\u001b[1;32m     93\u001b[0m \u001b[39m    \u001b[39m\u001b[39m\"\"\"Clicks the element.\"\"\"\u001b[39;00m\n\u001b[0;32m---> 94\u001b[0m     \u001b[39mself\u001b[39;49m\u001b[39m.\u001b[39;49m_execute(Command\u001b[39m.\u001b[39;49mCLICK_ELEMENT)\n",
      "File \u001b[0;32m/Library/Frameworks/Python.framework/Versions/3.11/lib/python3.11/site-packages/selenium/webdriver/remote/webelement.py:404\u001b[0m, in \u001b[0;36mWebElement._execute\u001b[0;34m(self, command, params)\u001b[0m\n\u001b[1;32m    402\u001b[0m     params \u001b[39m=\u001b[39m {}\n\u001b[1;32m    403\u001b[0m params[\u001b[39m\"\u001b[39m\u001b[39mid\u001b[39m\u001b[39m\"\u001b[39m] \u001b[39m=\u001b[39m \u001b[39mself\u001b[39m\u001b[39m.\u001b[39m_id\n\u001b[0;32m--> 404\u001b[0m \u001b[39mreturn\u001b[39;00m \u001b[39mself\u001b[39;49m\u001b[39m.\u001b[39;49m_parent\u001b[39m.\u001b[39;49mexecute(command, params)\n",
      "File \u001b[0;32m/Library/Frameworks/Python.framework/Versions/3.11/lib/python3.11/site-packages/selenium/webdriver/remote/webdriver.py:440\u001b[0m, in \u001b[0;36mWebDriver.execute\u001b[0;34m(self, driver_command, params)\u001b[0m\n\u001b[1;32m    438\u001b[0m response \u001b[39m=\u001b[39m \u001b[39mself\u001b[39m\u001b[39m.\u001b[39mcommand_executor\u001b[39m.\u001b[39mexecute(driver_command, params)\n\u001b[1;32m    439\u001b[0m \u001b[39mif\u001b[39;00m response:\n\u001b[0;32m--> 440\u001b[0m     \u001b[39mself\u001b[39;49m\u001b[39m.\u001b[39;49merror_handler\u001b[39m.\u001b[39;49mcheck_response(response)\n\u001b[1;32m    441\u001b[0m     response[\u001b[39m\"\u001b[39m\u001b[39mvalue\u001b[39m\u001b[39m\"\u001b[39m] \u001b[39m=\u001b[39m \u001b[39mself\u001b[39m\u001b[39m.\u001b[39m_unwrap_value(response\u001b[39m.\u001b[39mget(\u001b[39m\"\u001b[39m\u001b[39mvalue\u001b[39m\u001b[39m\"\u001b[39m, \u001b[39mNone\u001b[39;00m))\n\u001b[1;32m    442\u001b[0m     \u001b[39mreturn\u001b[39;00m response\n",
      "File \u001b[0;32m/Library/Frameworks/Python.framework/Versions/3.11/lib/python3.11/site-packages/selenium/webdriver/remote/errorhandler.py:245\u001b[0m, in \u001b[0;36mErrorHandler.check_response\u001b[0;34m(self, response)\u001b[0m\n\u001b[1;32m    243\u001b[0m         alert_text \u001b[39m=\u001b[39m value[\u001b[39m\"\u001b[39m\u001b[39malert\u001b[39m\u001b[39m\"\u001b[39m]\u001b[39m.\u001b[39mget(\u001b[39m\"\u001b[39m\u001b[39mtext\u001b[39m\u001b[39m\"\u001b[39m)\n\u001b[1;32m    244\u001b[0m     \u001b[39mraise\u001b[39;00m exception_class(message, screen, stacktrace, alert_text)  \u001b[39m# type: ignore[call-arg]  # mypy is not smart enough here\u001b[39;00m\n\u001b[0;32m--> 245\u001b[0m \u001b[39mraise\u001b[39;00m exception_class(message, screen, stacktrace)\n",
      "\u001b[0;31mElementNotInteractableException\u001b[0m: Message: element not interactable\n  (Session info: chrome=112.0.5615.137)\nStacktrace:\n0   chromedriver                        0x0000000107fa0ae8 chromedriver + 4958952\n1   chromedriver                        0x0000000107f987b3 chromedriver + 4925363\n2   chromedriver                        0x0000000107b5a051 chromedriver + 475217\n3   chromedriver                        0x0000000107b9f2e8 chromedriver + 758504\n4   chromedriver                        0x0000000107b90283 chromedriver + 696963\n5   chromedriver                        0x0000000107bc3c12 chromedriver + 908306\n6   chromedriver                        0x0000000107b8f8f1 chromedriver + 694513\n7   chromedriver                        0x0000000107bc3dce chromedriver + 908750\n8   chromedriver                        0x0000000107bdf25b chromedriver + 1020507\n9   chromedriver                        0x0000000107bc39e3 chromedriver + 907747\n10  chromedriver                        0x0000000107b8daef chromedriver + 686831\n11  chromedriver                        0x0000000107b8f00e chromedriver + 692238\n12  chromedriver                        0x0000000107f5c9ad chromedriver + 4680109\n13  chromedriver                        0x0000000107f61c12 chromedriver + 4701202\n14  chromedriver                        0x0000000107f6879f chromedriver + 4728735\n15  chromedriver                        0x0000000107f62b7a chromedriver + 4705146\n16  chromedriver                        0x0000000107f3527e chromedriver + 4518526\n17  chromedriver                        0x0000000107f82908 chromedriver + 4835592\n18  chromedriver                        0x0000000107f82a87 chromedriver + 4835975\n19  chromedriver                        0x0000000107f9200f chromedriver + 4898831\n20  libsystem_pthread.dylib             0x00007ff81a9501d3 _pthread_start + 125\n21  libsystem_pthread.dylib             0x00007ff81a94bbd3 thread_start + 15\n"
     ]
    }
   ],
   "source": [
    "pass_promotion(driver)\n"
   ]
  },
  {
   "cell_type": "code",
   "execution_count": 82,
   "metadata": {},
   "outputs": [
    {
     "name": "stdout",
     "output_type": "stream",
     "text": [
      "Entering book name Hop on Pop\n"
     ]
    }
   ],
   "source": [
    "search_book(driver, book_name)"
   ]
  },
  {
   "cell_type": "code",
   "execution_count": null,
   "metadata": {},
   "outputs": [],
   "source": [
    "<input type=\"text\" maxlength=\"200\" name=\"q\" id=\"q\" autocomplete=\"off\" \n",
    "placeholder=\"Search for books, tutorials, manuals and authors in 84,037,565 files\" value=\"\" required=\"\">"
   ]
  }
 ],
 "metadata": {
  "kernelspec": {
   "display_name": "venv",
   "language": "python",
   "name": "python3"
  },
  "language_info": {
   "codemirror_mode": {
    "name": "ipython",
    "version": 3
   },
   "file_extension": ".py",
   "mimetype": "text/x-python",
   "name": "python",
   "nbconvert_exporter": "python",
   "pygments_lexer": "ipython3",
   "version": "3.11.3"
  },
  "orig_nbformat": 4
 },
 "nbformat": 4,
 "nbformat_minor": 2
}
